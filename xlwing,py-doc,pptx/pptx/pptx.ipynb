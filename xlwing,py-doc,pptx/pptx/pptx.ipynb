{
 "cells": [
  {
   "cell_type": "markdown",
   "metadata": {},
   "source": [
    "# Crear pptx"
   ]
  },
  {
   "cell_type": "code",
   "execution_count": 1,
   "metadata": {},
   "outputs": [],
   "source": [
    "from pptx import Presentation\n",
    "\n",
    "prs = Presentation()\n",
    "title_slide_layout = prs.slide_layouts[0]\n",
    "slide = prs.slides.add_slide(title_slide_layout)\n",
    "title = slide.shapes.title\n",
    "subtitle = slide.placeholders[1]\n",
    "\n",
    "title.text = \"Hello, World!\"\n",
    "subtitle.text = \"python-pptx was here!\"\n",
    "\n",
    "prs.save('new_pptx.pptx')"
   ]
  },
  {
   "cell_type": "markdown",
   "metadata": {},
   "source": [
    "# Abrir PPTX"
   ]
  },
  {
   "cell_type": "code",
   "execution_count": 1,
   "metadata": {},
   "outputs": [],
   "source": [
    "from pptx import Presentation\n",
    "prs=Presentation(\"read_pptx.pptx\")"
   ]
  },
  {
   "cell_type": "markdown",
   "metadata": {},
   "source": [
    "## selecionamos diapositiva"
   ]
  },
  {
   "cell_type": "code",
   "execution_count": 2,
   "metadata": {},
   "outputs": [],
   "source": [
    "bullet_slide_layout = prs.slide_layouts[0]\n",
    "\n",
    "slide = prs.slides.add_slide(bullet_slide_layout)\n",
    "shapes = slide.shapes\n",
    "\n",
    "title_shape = shapes.title\n",
    "body_shape = shapes.placeholders[1]"
   ]
  },
  {
   "cell_type": "code",
   "execution_count": 4,
   "metadata": {},
   "outputs": [],
   "source": [
    "title_shape.text = 'Adding a Bullet Slide'\n",
    "\n",
    "tf = body_shape.text_frame\n",
    "tf.text = 'Find the bullet slide layout'\n",
    "\n",
    "p = tf.add_paragraph()\n",
    "p.text = 'Use _TextFrame.text for first bullet'\n",
    "p.level = 1\n",
    "\n",
    "p = tf.add_paragraph()\n",
    "p.text = 'Use _TextFrame.add_paragraph() for subsequent bullets'\n",
    "p.level = 2"
   ]
  },
  {
   "cell_type": "code",
   "execution_count": 8,
   "metadata": {},
   "outputs": [],
   "source": [
    "from pptx.util import Inches, Pt\n",
    "blank_slide_layout = prs.slide_layouts[6]\n",
    "slide = prs.slides.add_slide(blank_slide_layout)\n",
    "\n",
    "left = top = width = height = Inches(1)\n",
    "txBox = slide.shapes.add_textbox(left, top, width, height)\n",
    "tf = txBox.text_frame\n",
    "\n",
    "tf.text = \"This is text inside a textbox\"\n",
    "\n",
    "p = tf.add_paragraph()\n",
    "p.text = \"This is a second paragraph that's bold\"\n",
    "p.font.bold = True\n",
    "\n",
    "p = tf.add_paragraph()\n",
    "p.text = \"This is a third paragraph that's big\"\n",
    "p.font.size = Pt(40)"
   ]
  },
  {
   "cell_type": "markdown",
   "metadata": {},
   "source": [
    "## insertar imagen"
   ]
  },
  {
   "cell_type": "code",
   "execution_count": 2,
   "metadata": {},
   "outputs": [],
   "source": [
    "from pptx.util import Inches\n",
    "\n",
    "img_path = \"../openpyxl/OIP.jpeg\"\n",
    "\n",
    "blank_slide_layout = prs.slide_layouts[6]\n",
    "slide = prs.slides.add_slide(blank_slide_layout)\n",
    "\n",
    "left = top = Inches(1)\n",
    "pic = slide.shapes.add_picture(img_path, left, top)\n",
    "\n",
    "left = Inches(5)\n",
    "height = Inches(5.5)\n",
    "pic = slide.shapes.add_picture(img_path, left, top, height=height)"
   ]
  },
  {
   "cell_type": "markdown",
   "metadata": {},
   "source": [
    "## insertar shapes"
   ]
  },
  {
   "cell_type": "code",
   "execution_count": 4,
   "metadata": {},
   "outputs": [],
   "source": [
    "from pptx.enum.shapes import MSO_SHAPE\n",
    "title_only_slide_layout = prs.slide_layouts[5]\n",
    "slide = prs.slides.add_slide(title_only_slide_layout)\n",
    "shapes = slide.shapes\n",
    "\n",
    "shapes.title.text = 'Adding an AutoShape'\n",
    "\n",
    "left = Inches(0.93)\n",
    "top = Inches(3.0)\n",
    "# 0.93\" centers this overall set of shape\n",
    "width = Inches(1.75)\n",
    "height = Inches(1.0)\n",
    "\n",
    "shape = shapes.add_shape(MSO_SHAPE.PENTAGON, left, top, width, height)\n",
    "shape.text = 'Step 1'\n",
    "\n",
    "left = left + width - Inches(0.4)\n",
    "width = Inches(2.0) # chevrons need more width for visual balance\n",
    "\n",
    "for n in range(2, 6):\n",
    "  shape = shapes.add_shape(MSO_SHAPE.CHEVRON, left, top, width, height)\n",
    "  shape.text = 'Step %d' % n\n",
    "  left = left + width - Inches(0.4) "
   ]
  },
  {
   "cell_type": "markdown",
   "metadata": {},
   "source": [
    "## insertar tablas"
   ]
  },
  {
   "cell_type": "code",
   "execution_count": 6,
   "metadata": {},
   "outputs": [],
   "source": [
    "slide = prs.slides.add_slide(title_only_slide_layout)\n",
    "shapes = slide.shapes\n",
    "\n",
    "shapes.title.text = 'Adding a Table'\n",
    "\n",
    "rows = cols = 2\n",
    "left = top = Inches(2.0)\n",
    "width = Inches(6.0)\n",
    "height = Inches(0.8)\n",
    "\n",
    "table = shapes.add_table(rows, cols, left, top, width, height).table\n",
    "\n",
    "# set column widths\n",
    "table.columns[0].width = Inches(2.0)\n",
    "table.columns[1].width = Inches(4.0)\n",
    "\n",
    "# write column headings\n",
    "table.cell(0, 0).text = 'Foo'\n",
    "table.cell(0, 1).text = 'Bar'\n",
    "\n",
    "# write body cells\n",
    "table.cell(1, 0).text = 'Baz'\n",
    "table.cell(1, 1).text = 'Qux'"
   ]
  },
  {
   "cell_type": "code",
   "execution_count": 7,
   "metadata": {},
   "outputs": [],
   "source": [
    "prs.save('read_pptx.pptx')"
   ]
  }
 ],
 "metadata": {
  "kernelspec": {
   "display_name": "Python 3",
   "language": "python",
   "name": "python3"
  },
  "language_info": {
   "codemirror_mode": {
    "name": "ipython",
    "version": 3
   },
   "file_extension": ".py",
   "mimetype": "text/x-python",
   "name": "python",
   "nbconvert_exporter": "python",
   "pygments_lexer": "ipython3",
   "version": "3.10.12"
  }
 },
 "nbformat": 4,
 "nbformat_minor": 2
}
