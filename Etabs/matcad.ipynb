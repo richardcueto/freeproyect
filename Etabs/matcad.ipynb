{
 "cells": [
  {
   "cell_type": "code",
   "execution_count": 1,
   "metadata": {},
   "outputs": [],
   "source": [
    "import forallpeople\n",
    "import handcalcs.render\n",
    "forallpeople.environment('structural')"
   ]
  },
  {
   "cell_type": "markdown",
   "metadata": {},
   "source": [
    "+ si.m - meter\n",
    "+ si.kg - kilogram\n",
    "+ si.s - second\n",
    "+ si.A - ampere\n",
    "+ si.cd - candela\n",
    "+ si.K - kelvin\n",
    "+ si.mol - mole"
   ]
  },
  {
   "cell_type": "markdown",
   "metadata": {},
   "source": [
    "%%render\n",
    "L=10*m"
   ]
  }
 ],
 "metadata": {
  "kernelspec": {
   "display_name": "Python 3",
   "language": "python",
   "name": "python3"
  },
  "language_info": {
   "codemirror_mode": {
    "name": "ipython",
    "version": 3
   },
   "file_extension": ".py",
   "mimetype": "text/x-python",
   "name": "python",
   "nbconvert_exporter": "python",
   "pygments_lexer": "ipython3",
   "version": "3.9.13"
  }
 },
 "nbformat": 4,
 "nbformat_minor": 2
}
