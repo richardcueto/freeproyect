{
 "cells": [
  {
   "cell_type": "markdown",
   "metadata": {},
   "source": [
    "<p align=\"center\">\n",
    "<b><font size=\"9\" color=\"#000080\">PORTICO PLANO ETABS</font></b>\n",
    "<div align=\"center\">\n",
    "    <div style=\"display: inline-block;\">\n",
    "    <span style=\"font-size: 18px;position: relative; bottom: 13px;\">Richard Cueto Calderon | Update :7/05/204 | API ETBAS | Python</span>\n",
    "    </div>\n",
    "</div>\n",
    "</p>"
   ]
  },
  {
   "cell_type": "markdown",
   "metadata": {},
   "source": [
    "Vamos a crear un portico de dos paños\n",
    "\n",
    "Input:\n",
    "+ L1\n",
    "+ L2\n",
    "+ H1\n",
    "+ Fc\n",
    "+ Seccion de columnas y vigas"
   ]
  },
  {
   "cell_type": "code",
   "execution_count": 1,
   "metadata": {},
   "outputs": [],
   "source": [
    "import os\n",
    "import sys\n",
    "import comtypes.client\n",
    "import pandas as pd\n",
    "import numpy as np\n",
    "import matplotlib.pyplot as plt"
   ]
  },
  {
   "cell_type": "markdown",
   "metadata": {},
   "source": [
    "## Etabas"
   ]
  },
  {
   "cell_type": "code",
   "execution_count": 2,
   "metadata": {},
   "outputs": [
    {
     "data": {
      "text/plain": [
       "0"
      ]
     },
     "execution_count": 2,
     "metadata": {},
     "output_type": "execute_result"
    }
   ],
   "source": [
    "AttachToInstance = False\n",
    "SpecifyPath = True\n",
    "ProgramPath = \"C:\\Program Files\\Computers and Structures\\ETABS 19\\ETABS.exe\"\n",
    "APIPath = r'D:\\Users\\User(D)\\Documentos\\GitHub\\freeproyect\\Etabs\\Modelos'\n",
    "if not os.path.exists(APIPath):\n",
    "    try:\n",
    "        os.makedirs(APIPath)\n",
    "    except OSError:\n",
    "        pass\n",
    "ModelPath = APIPath + os.sep + 'Portico.edb'\n",
    "helper = comtypes.client.CreateObject('ETABSv1.Helper')\n",
    "helper = helper.QueryInterface(comtypes.gen.ETABSv1.cHelper)\n",
    "if AttachToInstance:\n",
    "    try:\n",
    "        myETABSObject = helper.GetObject(\"CSI.ETABS.API.ETABSObject\") \n",
    "    except (OSError, comtypes.COMError):\n",
    "        print(\"No running instance of the program found or failed to attach.\")\n",
    "        sys.exit(-1)\n",
    "else:\n",
    "    if SpecifyPath:\n",
    "        try:\n",
    "            myETABSObject = helper.CreateObject(ProgramPath)\n",
    "        except (OSError, comtypes.COMError):\n",
    "            print(\"Cannot start a new instance of the program from \" + ProgramPath)\n",
    "            sys.exit(-1)\n",
    "    else:\n",
    "        try: \n",
    "            myETABSObject = helper.CreateObjectProgID(\"CSI.ETABS.API.ETABSObject\") \n",
    "        except (OSError, comtypes.COMError):\n",
    "            print(\"Cannot start a new instance of the program.\")\n",
    "            sys.exit(-1)\n",
    "    myETABSObject.ApplicationStart()\n",
    "SapModel = myETABSObject.SapModel\n",
    "SapModel.InitializeNewModel()"
   ]
  },
  {
   "cell_type": "markdown",
   "metadata": {},
   "source": [
    "## Modelo"
   ]
  },
  {
   "cell_type": "code",
   "execution_count": 3,
   "metadata": {},
   "outputs": [],
   "source": [
    "# Creamos un nuevo modelo en blanco\n",
    "ret=SapModel.File.NewBlank()"
   ]
  },
  {
   "cell_type": "code",
   "execution_count": 4,
   "metadata": {},
   "outputs": [],
   "source": [
    "# Cambiamos unidades a ton_m\n",
    "Tonf_m_C=12\n",
    "ret = SapModel.SetPresentUnits(Tonf_m_C)"
   ]
  },
  {
   "cell_type": "code",
   "execution_count": 5,
   "metadata": {},
   "outputs": [],
   "source": [
    "# Definicion de material concreto\n",
    "fc=280\n",
    "material_type=2\n",
    "material_name=\"fc\"+str(fc)+\"kg/cm2\" #fc=280kg/cm2\n",
    "ret=SapModel.PropMaterial.SetMaterial(material_name, material_type)\n",
    "# Definir propiedades mecanicas del material\n",
    "E=15000*fc**0.5             #kg/cm2\n",
    "v=0.2\n",
    "CT=0.0000055\n",
    "ret=SapModel.PropMaterial.SetMPIsotropic(material_name,E,v,CT)"
   ]
  },
  {
   "cell_type": "code",
   "execution_count": 6,
   "metadata": {},
   "outputs": [],
   "source": [
    "# Creamos seccion de viga y columna\n",
    "# Viga\n",
    "b_v=0.3\n",
    "h_v=0.6\n",
    "nombre_viga='v '+str(b_v)+'x'+str(h_v)          #V 0.30x0.60\n",
    "ret = SapModel.PropFrame.SetRectangle(nombre_viga, material_name, h_v, b_v)\n",
    "\n",
    "# Columna\n",
    "b_c=0.45\n",
    "h_c=0.45\n",
    "nombre_columna='v '+str(b_c)+'x'+str(h_c)          #V 0.45x0.45\n",
    "ret = SapModel.PropFrame.SetRectangle(nombre_columna, material_name, h_c, b_c)"
   ]
  },
  {
   "cell_type": "code",
   "execution_count": null,
   "metadata": {},
   "outputs": [],
   "source": [
    "# definimos modificaciones\n",
    "ModValue = [1000, 0, 0, 1, 1, 1, 1, 1]\n",
    "ret = SapModel.PropFrame.SetModifiers(nombre_viga, ModValue)\n",
    "ret = SapModel.PropFrame.SetModifiers(nombre_columna, ModValue)"
   ]
  },
  {
   "cell_type": "markdown",
   "metadata": {},
   "source": [
    "**CREACION DE PORTICO 3D**\n",
    "\n",
    "Esta creacion ser de manera manual y mecanica\n",
    "\n",
    "+ Creacion de Frame por coordendas\n",
    "+ Ingresamos paramteros\n"
   ]
  },
  {
   "cell_type": "code",
   "execution_count": null,
   "metadata": {},
   "outputs": [],
   "source": [
    "h=3\n",
    "L=4\n",
    "paños=10\n",
    "niveles=5\n",
    "\n",
    "for j in range(niveles):\n",
    "    #columnas\n",
    "    for i in range(paños+1):\n",
    "        FrameName = ' '\n",
    "        [FrameName, ret] = SapModel.FrameObj.AddByCoord(i*L, 0, j*h,i*L, 0, (j+1)*h, FrameName, nombre_columna, '', 'Global')\n",
    "\n",
    "    # vigas\n",
    "    for i in range(paños):\n",
    "        FrameName = ' '\n",
    "        [FrameName, ret] = SapModel.FrameObj.AddByCoord(i*L, 0, (j+1)*h, (i+1)*L, 0, (j+1)*h, FrameName, nombre_viga, '', 'Global')\n"
   ]
  },
  {
   "cell_type": "code",
   "execution_count": null,
   "metadata": {},
   "outputs": [],
   "source": [
    "# Agregamos muro\n",
    "for j in range(niveles):\n",
    "    nameWall=\"\"\n",
    "    x=[0,L,L,0]\n",
    "    y=[0,0,0,0]\n",
    "    z=[0,0,(j+1)*h,(j+1)*h]\n",
    "    ret = SapModel.AreaObj.AddByCoord(4, x, y, z, nameWall)\n",
    "\n",
    "    nameWall=\"\"\n",
    "    x=[(paños-1)*L,paños*L,paños*L,(paños-1)*L]\n",
    "    y=[0,0,0,0]\n",
    "    z=[0,0,(j+1)*h,(j+1)*h]\n",
    "    ret = SapModel.AreaObj.AddByCoord(4, x, y, z, nameWall)"
   ]
  },
  {
   "cell_type": "code",
   "execution_count": null,
   "metadata": {},
   "outputs": [],
   "source": [
    "#assign point object restraint at base\n",
    "Restraint = [True, True, True, True, True, True]\n",
    "for i in range(paños+1):\n",
    "    Pointi,Pointj= ' ',' '\n",
    "    [Pointi, Pointj, ret] = SapModel.FrameObj.GetPoints(str(i+1), Pointi, Pointj)\n",
    "    ret = SapModel.PointObj.SetRestraint(Pointi, Restraint)"
   ]
  },
  {
   "cell_type": "code",
   "execution_count": null,
   "metadata": {},
   "outputs": [],
   "source": [
    "# Creamos un LoadPattern\n",
    "ret = SapModel.LoadPatterns.Add('FH', 8, 0, True)\n",
    "for j in range(niveles):\n",
    "    for i in range(paños):\n",
    "        # Asignar carga distribuida\n",
    "        ret = SapModel.FrameObj.SetLoadDistributed(str(paños+2+i+(2*paños+1)*j),'Dead',1,2,0,1,-0.4,-0.4,'Local')\n",
    "        ret = SapModel.FrameObj.SetLoadDistributed(str(paños+2+i+(2*paños+1)*j),'Live',1,2,0,1,-0.25,-0.25,'Local')"
   ]
  },
  {
   "cell_type": "code",
   "execution_count": null,
   "metadata": {},
   "outputs": [],
   "source": [
    "\n",
    "# Asignar carga puntual\n",
    "PointLoadValue = [1,0,0,0,0,0]\n",
    "Pointi=\"\"\n",
    "Pointj=\"\"\n",
    "[Pointi, Pointj, ret] = SapModel.FrameObj.GetPoints(\"1\", Pointi, Pointj)\n",
    "ret = SapModel.PointObj.SetLoadForce(Pointj,'FH',PointLoadValue)"
   ]
  },
  {
   "cell_type": "code",
   "execution_count": null,
   "metadata": {},
   "outputs": [],
   "source": [
    "#refresh view, update (initialize) zoom\n",
    "ret = SapModel.View.RefreshView(0, False)"
   ]
  },
  {
   "cell_type": "code",
   "execution_count": null,
   "metadata": {},
   "outputs": [],
   "source": [
    "#save model\n",
    "ret = SapModel.File.Save(ModelPath)"
   ]
  },
  {
   "cell_type": "code",
   "execution_count": null,
   "metadata": {},
   "outputs": [],
   "source": [
    "#run model (this will create the analysis model)\n",
    "ret = SapModel.Analyze.RunAnalysis()"
   ]
  },
  {
   "cell_type": "markdown",
   "metadata": {},
   "source": [
    "# EXTRAER DATOS DEL ETABS\n",
    "\n",
    "El codigo proporcionado nos permitira extraer cualquier tabla que se encuentre en el programa etabs.\n",
    "\n",
    "El trabajo de esta sera identificar las tablas con las que queremos trabajar."
   ]
  },
  {
   "cell_type": "code",
   "execution_count": 4,
   "metadata": {},
   "outputs": [
    {
     "name": "stdout",
     "output_type": "stream",
     "text": [
      "Conected to ETABS model\n"
     ]
    }
   ],
   "source": [
    "def conect_to_etabs():\n",
    "    helper = comtypes.client.CreateObject('ETABSv1.Helper')\n",
    "    helper = helper.QueryInterface(comtypes.gen.ETABSv1.cHelper)\n",
    "    try:\n",
    "        myETABSObject = helper.GetObject(\"CSI.ETABS.API.ETABSObject\")\n",
    "        print('Conected to ETABS model')\n",
    "    except (OSError, comtypes.COMError):\n",
    "        print(\"No running instance of the program found or failed to attach.\")\n",
    "        sys.exit(-1)\n",
    "    SapModel = myETABSObject.SapModel\n",
    "    return SapModel,myETABSObject,helper\n",
    "\n",
    "SapModel,myETABSObject,helper=conect_to_etabs()"
   ]
  },
  {
   "cell_type": "code",
   "execution_count": null,
   "metadata": {},
   "outputs": [],
   "source": [
    "name_table=\"Base Reactions\"\n",
    "name_table=\"Element Forces - Beams\"\n",
    "table=SapModel.DatabaseTables.GetTableForDisplayArray (name_table,GroupName=\"\")\n",
    "colums=table[2]\n",
    "noOfRows=table[3]\n",
    "val=np.array_split(table[4],noOfRows)\n",
    "df=pd.DataFrame(val)\n",
    "df.columns=colums\n",
    "df"
   ]
  },
  {
   "cell_type": "code",
   "execution_count": null,
   "metadata": {},
   "outputs": [],
   "source": [
    "df"
   ]
  },
  {
   "cell_type": "code",
   "execution_count": null,
   "metadata": {},
   "outputs": [],
   "source": [
    "# df=df.drop(columns='FX')\n",
    "# df=df.drop(columns='FY')\n",
    "# df=df.drop(columns='MZ')\n",
    "# df=df.drop(columns='X')\n",
    "# df=df.drop(columns='Y')\n",
    "# df=df.drop(columns='Z')"
   ]
  },
  {
   "cell_type": "code",
   "execution_count": null,
   "metadata": {},
   "outputs": [],
   "source": [
    "df"
   ]
  }
 ],
 "metadata": {
  "kernelspec": {
   "display_name": "Python 3",
   "language": "python",
   "name": "python3"
  },
  "language_info": {
   "codemirror_mode": {
    "name": "ipython",
    "version": 3
   },
   "file_extension": ".py",
   "mimetype": "text/x-python",
   "name": "python",
   "nbconvert_exporter": "python",
   "pygments_lexer": "ipython3",
   "version": "3.9.13"
  }
 },
 "nbformat": 4,
 "nbformat_minor": 2
}
