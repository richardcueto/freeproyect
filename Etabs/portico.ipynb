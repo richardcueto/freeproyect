{
 "cells": [
  {
   "cell_type": "markdown",
   "metadata": {},
   "source": [
    "<p align=\"center\">\n",
    "<b><font size=\"9\" color=\"#000080\">PORTICO PLANO ETABS</font></b>\n",
    "<div align=\"center\">\n",
    "    <div style=\"display: inline-block;\">\n",
    "    <span style=\"font-size: 18px;position: relative; bottom: 13px;\">Richard Cueto Calderon | Update :7/05/204 | API ETBAS | Python</span>\n",
    "    </div>\n",
    "</div>\n",
    "</p>"
   ]
  },
  {
   "cell_type": "markdown",
   "metadata": {},
   "source": [
    "Vamos a crear un portico de dos paños\n",
    "\n",
    "Input:\n",
    "+ L1\n",
    "+ L2\n",
    "+ H1\n",
    "+ Fc\n",
    "+ Seccion de columnas y vigas"
   ]
  },
  {
   "cell_type": "code",
   "execution_count": 1,
   "metadata": {},
   "outputs": [],
   "source": [
    "import os\n",
    "import sys\n",
    "import comtypes.client\n",
    "import pandas as pd\n",
    "import numpy as np\n",
    "import matplotlib.pyplot as plt"
   ]
  },
  {
   "cell_type": "code",
   "execution_count": 2,
   "metadata": {},
   "outputs": [
    {
     "data": {
      "text/plain": [
       "0"
      ]
     },
     "execution_count": 2,
     "metadata": {},
     "output_type": "execute_result"
    }
   ],
   "source": [
    "AttachToInstance = False\n",
    "SpecifyPath = True\n",
    "ProgramPath = \"C:\\Program Files\\Computers and Structures\\ETABS 19\\ETABS.exe\"\n",
    "APIPath = r'D:\\Users\\User(D)\\Documentos\\GitHub\\freeproyect\\Etabs\\Modelos'\n",
    "if not os.path.exists(APIPath):\n",
    "    try:\n",
    "        os.makedirs(APIPath)\n",
    "    except OSError:\n",
    "        pass\n",
    "ModelPath = APIPath + os.sep + 'Portico.edb'\n",
    "helper = comtypes.client.CreateObject('ETABSv1.Helper')\n",
    "helper = helper.QueryInterface(comtypes.gen.ETABSv1.cHelper)\n",
    "if AttachToInstance:\n",
    "    try:\n",
    "        myETABSObject = helper.GetObject(\"CSI.ETABS.API.ETABSObject\") \n",
    "    except (OSError, comtypes.COMError):\n",
    "        print(\"No running instance of the program found or failed to attach.\")\n",
    "        sys.exit(-1)\n",
    "else:\n",
    "    if SpecifyPath:\n",
    "        try:\n",
    "            myETABSObject = helper.CreateObject(ProgramPath)\n",
    "        except (OSError, comtypes.COMError):\n",
    "            print(\"Cannot start a new instance of the program from \" + ProgramPath)\n",
    "            sys.exit(-1)\n",
    "    else:\n",
    "        try: \n",
    "            myETABSObject = helper.CreateObjectProgID(\"CSI.ETABS.API.ETABSObject\") \n",
    "        except (OSError, comtypes.COMError):\n",
    "            print(\"Cannot start a new instance of the program.\")\n",
    "            sys.exit(-1)\n",
    "    myETABSObject.ApplicationStart()\n",
    "SapModel = myETABSObject.SapModel\n",
    "SapModel.InitializeNewModel()"
   ]
  },
  {
   "cell_type": "code",
   "execution_count": null,
   "metadata": {},
   "outputs": [],
   "source": [
    "AttachToInstance = False\n",
    "SpecifyPath = True\n",
    "ProgramPath = \"C:\\Program Files\\Computers and Structures\\SAP2000 22\\SAP2000.exe\"\n",
    "APIPath = r'D:\\Users\\User(D)\\Documentos\\GitHub\\freeproyect\\SAP2000\\Modelos'\n",
    "if not os.path.exists(APIPath):\n",
    "    try:\n",
    "        os.makedirs(APIPath)\n",
    "    except OSError:\n",
    "        pass\n",
    "ModelPath = APIPath + os.sep + 'portico.sdb'\n",
    "helper = comtypes.client.CreateObject('SAP2000v1.Helper')\n",
    "helper = helper.QueryInterface(comtypes.gen.SAP2000v1.cHelper)\n",
    "if AttachToInstance:\n",
    "    try:\n",
    "        mySapObject = helper.GetObject(\"CSI.SAP2000.API.ETABSObject\") \n",
    "    except (OSError, comtypes.COMError):\n",
    "        print(\"No running instance of the program found or failed to attach.\")\n",
    "        sys.exit(-1)\n",
    "else:\n",
    "    if SpecifyPath:\n",
    "        try:\n",
    "            mySapObject = helper.CreateObject(ProgramPath)\n",
    "        except (OSError, comtypes.COMError):\n",
    "            print(\"Cannot start a new instance of the program from \" + ProgramPath)\n",
    "            sys.exit(-1)\n",
    "    else:\n",
    "        try: \n",
    "            mySapObject = helper.CreateObjectProgID(\"CSI.SAP2000.API.ETABSObject\") \n",
    "        except (OSError, comtypes.COMError):\n",
    "            print(\"Cannot start a new instance of the program.\")\n",
    "            sys.exit(-1)\n",
    "    mySapObject.ApplicationStart()\n",
    "SapModel = mySapObject.SapModel\n",
    "SapModel.InitializeNewModel()"
   ]
  },
  {
   "cell_type": "code",
   "execution_count": 3,
   "metadata": {},
   "outputs": [],
   "source": [
    "# Creamos un nuevo modelo en blanco\n",
    "ret=SapModel.File.NewBlank()"
   ]
  },
  {
   "cell_type": "code",
   "execution_count": 4,
   "metadata": {},
   "outputs": [],
   "source": [
    "# Cambiamos unidades a ton_m\n",
    "Tonf_m_C=12\n",
    "ret = SapModel.SetPresentUnits(Tonf_m_C)"
   ]
  },
  {
   "cell_type": "code",
   "execution_count": 5,
   "metadata": {},
   "outputs": [],
   "source": [
    "# Definicion de material concreto\n",
    "fc=280\n",
    "material_type=2\n",
    "material_name=\"fc\"+str(fc)+\"kg/cm2\" #fc=280kg/cm2\n",
    "ret=SapModel.PropMaterial.SetMaterial(material_name, material_type)\n",
    "# Definir propiedades mecanicas del material\n",
    "E=15000*fc**0.5             #kg/cm2\n",
    "v=0.2\n",
    "CT=0.0000055\n",
    "ret=SapModel.PropMaterial.SetMPIsotropic(material_name,E,v,CT)"
   ]
  },
  {
   "cell_type": "code",
   "execution_count": 6,
   "metadata": {},
   "outputs": [],
   "source": [
    "# Creamos seccion de viga y columna\n",
    "# Viga\n",
    "b_v=0.3\n",
    "h_v=0.6\n",
    "nombre_viga='v '+str(b_v)+'x'+str(h_v)          #V 0.30x0.60\n",
    "ret = SapModel.PropFrame.SetRectangle(nombre_viga, material_name, h_v, b_v)\n",
    "\n",
    "# Columna\n",
    "b_c=0.45\n",
    "h_c=0.45\n",
    "nombre_columna='v '+str(b_c)+'x'+str(h_c)          #V 0.45x0.45\n",
    "ret = SapModel.PropFrame.SetRectangle(nombre_columna, material_name, h_c, b_c)"
   ]
  },
  {
   "cell_type": "code",
   "execution_count": 7,
   "metadata": {},
   "outputs": [],
   "source": [
    "# definimos modificaciones\n",
    "ModValue = [1000, 0, 0, 1, 1, 1, 1, 1]\n",
    "ret = SapModel.PropFrame.SetModifiers(nombre_viga, ModValue)\n",
    "ret = SapModel.PropFrame.SetModifiers(nombre_columna, ModValue)"
   ]
  },
  {
   "cell_type": "markdown",
   "metadata": {},
   "source": [
    "**CREACION DE PORTICO**\n",
    "\n",
    "Esta creacion ser de manera manual y mecanica\n",
    "\n",
    "+ Creacion de Frame por coordendas\n",
    "+ Ingresamos paramteros\n"
   ]
  },
  {
   "cell_type": "code",
   "execution_count": 8,
   "metadata": {},
   "outputs": [],
   "source": [
    "h=3\n",
    "L1=4\n",
    "L2=7\n",
    "\n",
    "FrameName1 = ' '\n",
    "FrameName2 = ' '\n",
    "FrameName3 = ' '\n",
    "FrameName4 = ' '\n",
    "FrameName5 = ' '\n",
    "\n",
    "# columnas\n",
    "[FrameName1, ret] = SapModel.FrameObj.AddByCoord(0, 0, 0, 0, 0, h, FrameName1, nombre_columna, '1', 'Global')\n",
    "[FrameName2, ret] = SapModel.FrameObj.AddByCoord(L1, 0, 0, L1, 0, h, FrameName2,nombre_columna, '2', 'Global')\n",
    "[FrameName3, ret] = SapModel.FrameObj.AddByCoord(L1+L2, 0, 0,L1+L2, 0, h, FrameName3, nombre_columna, '3', 'Global')\n",
    "\n",
    "# vigas\n",
    "[FrameName4, ret] = SapModel.FrameObj.AddByCoord(0, 0, h, L1, 0, h, FrameName4, nombre_viga, '4', 'Global')\n",
    "[FrameName5, ret] = SapModel.FrameObj.AddByCoord(L1, 0, h,L1+L2, 0, h, FrameName5, nombre_viga, '5', 'Global')"
   ]
  },
  {
   "cell_type": "code",
   "execution_count": 9,
   "metadata": {},
   "outputs": [],
   "source": [
    "#assign point object restraint at base\n",
    "Pointi = ' '\n",
    "Pointj = ' '\n",
    "Restraint = [True, True, True, True, True, True]\n",
    "[Pointi, Pointj, ret] = SapModel.FrameObj.GetPoints(FrameName1, Pointi, Pointj)\n",
    "ret = SapModel.PointObj.SetRestraint(Pointi, Restraint)\n",
    "\n",
    "Pointi = ' '\n",
    "Pointj = ' '\n",
    "[Pointi, Pointj, ret] = SapModel.FrameObj.GetPoints(FrameName2, Pointi, Pointj)\n",
    "ret = SapModel.PointObj.SetRestraint(Pointi, Restraint)\n",
    "\n",
    "Pointi = ' '\n",
    "Pointj = ' '\n",
    "[Pointi, Pointj, ret] = SapModel.FrameObj.GetPoints(FrameName3, Pointi, Pointj)\n",
    "ret = SapModel.PointObj.SetRestraint(Pointi, Restraint)"
   ]
  },
  {
   "cell_type": "code",
   "execution_count": 10,
   "metadata": {},
   "outputs": [],
   "source": [
    "# Creamos un LoadPattern\n",
    "ret = SapModel.LoadPatterns.Add('FH', 8, 0, True)\n",
    "\n",
    "# Asignar carga distribuida\n",
    "ret = SapModel.FrameObj.SetLoadDistributed(FrameName4,'Dead',1,2,0,1,-0.4,-0.4,'Local')\n",
    "ret = SapModel.FrameObj.SetLoadDistributed(FrameName4,'Live',1,2,0,1,-0.25,-0.25,'Local')\n",
    "\n",
    "ret = SapModel.FrameObj.SetLoadDistributed(FrameName5,'Dead',1,2,0,1,-0.4,-0.4,'Local')\n",
    "ret = SapModel.FrameObj.SetLoadDistributed(FrameName5,'Live',1,2,0,1,-0.25,-0.25,'Local')\n",
    "# Asignar carga puntual\n",
    "PointLoadValue = [1,0,0,0,0,0]\n",
    "Pointi=\"\"\n",
    "Pointj=\"\"\n",
    "[Pointi, Pointj, ret] = SapModel.FrameObj.GetPoints(FrameName1, Pointi, Pointj)\n",
    "ret = SapModel.PointObj.SetLoadForce(Pointj,'FH',PointLoadValue)\n",
    "\n",
    "[Pointi, Pointj, ret] = SapModel.FrameObj.GetPoints(FrameName3, Pointi, Pointj)\n",
    "ret = SapModel.PointObj.SetLoadForce(Pointj,'FH',PointLoadValue)"
   ]
  },
  {
   "cell_type": "code",
   "execution_count": 11,
   "metadata": {},
   "outputs": [],
   "source": [
    "#refresh view, update (initialize) zoom\n",
    "ret = SapModel.View.RefreshView(0, False)"
   ]
  },
  {
   "cell_type": "code",
   "execution_count": 12,
   "metadata": {},
   "outputs": [],
   "source": [
    "#save model\n",
    "ret = SapModel.File.Save(ModelPath)"
   ]
  },
  {
   "cell_type": "code",
   "execution_count": 13,
   "metadata": {},
   "outputs": [],
   "source": [
    "#run model (this will create the analysis model)\n",
    "ret = SapModel.Analyze.RunAnalysis()"
   ]
  }
 ],
 "metadata": {
  "kernelspec": {
   "display_name": "Python 3",
   "language": "python",
   "name": "python3"
  },
  "language_info": {
   "codemirror_mode": {
    "name": "ipython",
    "version": 3
   },
   "file_extension": ".py",
   "mimetype": "text/x-python",
   "name": "python",
   "nbconvert_exporter": "python",
   "pygments_lexer": "ipython3",
   "version": "3.9.13"
  }
 },
 "nbformat": 4,
 "nbformat_minor": 2
}
