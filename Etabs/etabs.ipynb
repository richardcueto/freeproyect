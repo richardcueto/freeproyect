{
 "cells": [
  {
   "cell_type": "markdown",
   "metadata": {},
   "source": [
    "# Librerias"
   ]
  },
  {
   "cell_type": "code",
   "execution_count": 13,
   "metadata": {},
   "outputs": [],
   "source": [
    "import os\n",
    "import sys\n",
    "import comtypes.client\n",
    "import pandas as pd\n",
    "import numpy as np\n",
    "import matplotlib.pyplot as plt"
   ]
  },
  {
   "cell_type": "markdown",
   "metadata": {},
   "source": [
    "## Modo de conexion con el programa\n",
    "+ Abriendo automaticamente una ventana de Etabas\n",
    "+ Ingresando informacion a traves de codigo python"
   ]
  },
  {
   "cell_type": "code",
   "execution_count": 14,
   "metadata": {},
   "outputs": [],
   "source": [
    "#True:Trabaja con el modelo existente\n",
    "#False:Crea un nuevo modelo\n",
    "AttachToInstance = False"
   ]
  },
  {
   "cell_type": "markdown",
   "metadata": {},
   "source": [
    "## Complemento de conexion"
   ]
  },
  {
   "cell_type": "code",
   "execution_count": 15,
   "metadata": {},
   "outputs": [
    {
     "data": {
      "text/plain": [
       "0"
      ]
     },
     "execution_count": 15,
     "metadata": {},
     "output_type": "execute_result"
    }
   ],
   "source": [
    "#True:especifica manualmente la ruata a ETABS.exe\n",
    "#False:se usara la ultima version instalada de Etabs\n",
    "SpecifyPath = True\n",
    "\n",
    "#Si el indicador anterior esta en ruta, especifica la ruta a ETABS a continuacion\n",
    "ProgramPath = \"C:\\Program Files\\Computers and Structures\\ETABS 19\\ETABS.exe\"\n",
    "\n",
    "#ruta completa del modelo\n",
    "#ajuste a la ruta deseada de su modelo\n",
    "APIPath = path = r'D:\\Users\\User(D)\\Escritorio\\freeproyect\\Etabs'\n",
    "\n",
    "if not os.path.exists(APIPath):\n",
    "    try:\n",
    "        os.makedirs(APIPath)\n",
    "    except OSError:\n",
    "        pass\n",
    "ModelPath = APIPath + os.sep + 'API_1-001.edb'\n",
    "\n",
    "#Crea un objeto api de ayuda\n",
    "helper = comtypes.client.CreateObject('ETABSv1.Helper')\n",
    "helper = helper.QueryInterface(comtypes.gen.ETABSv1.cHelper)\n",
    "\n",
    "if AttachToInstance:\n",
    "    #attach to a running instance of ETABS\n",
    "    try:\n",
    "        #get the active ETABS object\n",
    "        myETABSObject = helper.GetObject(\"CSI.ETABS.API.ETABSObject\") \n",
    "    except (OSError, comtypes.COMError):\n",
    "        print(\"No running instance of the program found or failed to attach.\")\n",
    "        sys.exit(-1)\n",
    "else:\n",
    "    if SpecifyPath:\n",
    "        try:\n",
    "            #'create an instance of the ETABS object from the specified path\n",
    "            myETABSObject = helper.CreateObject(ProgramPath)\n",
    "        except (OSError, comtypes.COMError):\n",
    "            print(\"Cannot start a new instance of the program from \" + ProgramPath)\n",
    "            sys.exit(-1)\n",
    "    else:\n",
    "        try: \n",
    "            #create an instance of the ETABS object from the latest installed ETABS\n",
    "            myETABSObject = helper.CreateObjectProgID(\"CSI.ETABS.API.ETABSObject\") \n",
    "        except (OSError, comtypes.COMError):\n",
    "            print(\"Cannot start a new instance of the program.\")\n",
    "            sys.exit(-1)\n",
    "\n",
    "    #Comezar la aplicacion de ETABS\n",
    "    myETABSObject.ApplicationStart()\n",
    "\n",
    "#create SapModel object\n",
    "SapModel = myETABSObject.SapModel\n",
    "\n",
    "#initialize model\n",
    "SapModel.InitializeNewModel()"
   ]
  },
  {
   "cell_type": "markdown",
   "metadata": {},
   "source": [
    "## Definicion de espacio de trabajo\n",
    "+ NewBlanck()\n",
    "+ NewGriddOnly()\n",
    "ret = SapModel.File.NewGridOnly(10,4,3,3,3,2,2)\n",
    "+ NewSteelDeck()\n",
    "ret = SapModel.File.NewSteelDeck(5,4,3,4,4,24,24)\n",
    "+ OpenFile()\n",
    "PathFile=\"\"\n",
    "ret = SapModel.File.OpenFile(PathFile)"
   ]
  },
  {
   "cell_type": "code",
   "execution_count": 17,
   "metadata": {},
   "outputs": [],
   "source": [
    "PathFile=r\"D:\\Users\\User(D)\\Escritorio\\freeproyect\\Etabs\\API_1-001.EDB\"\n",
    "ret = SapModel.File.OpenFile(PathFile)"
   ]
  },
  {
   "cell_type": "markdown",
   "metadata": {},
   "source": [
    "## Definimos propiedad de material"
   ]
  },
  {
   "cell_type": "code",
   "execution_count": null,
   "metadata": {},
   "outputs": [],
   "source": [
    "#define material property\n",
    "MATERIAL_CONCRETE = 2\n",
    "ret = SapModel.PropMaterial.SetMaterial('CONC', MATERIAL_CONCRETE)\n",
    "\n",
    "#assign isotropic mechanical properties to material\n",
    "ret = SapModel.PropMaterial.SetMPIsotropic('CONC', 3600, 0.2, 0.0000055)\n",
    "\n",
    "#define rectangular frame section property\n",
    "ret = SapModel.PropFrame.SetRectangle('R1', 'CONC', 12, 12)\n",
    "\n",
    "#define frame section property modifiers\n",
    "ModValue = [1000, 0, 0, 1, 1, 1, 1, 1]\n",
    "ret = SapModel.PropFrame.SetModifiers('R1', ModValue)"
   ]
  },
  {
   "cell_type": "markdown",
   "metadata": {},
   "source": [
    "## Definimos unidades"
   ]
  },
  {
   "cell_type": "code",
   "execution_count": null,
   "metadata": {},
   "outputs": [],
   "source": [
    "#switch to k-ft units\n",
    "kip_ft_F = 4\n",
    "ret = SapModel.SetPresentUnits(kip_ft_F)"
   ]
  },
  {
   "cell_type": "markdown",
   "metadata": {},
   "source": [
    "## Definimos frames"
   ]
  },
  {
   "cell_type": "code",
   "execution_count": null,
   "metadata": {},
   "outputs": [],
   "source": [
    "\n",
    "#add frame object by coordinates\n",
    "FrameName1 = ' '\n",
    "FrameName2 = ' '\n",
    "FrameName3 = ' '\n",
    "[FrameName1, ret] = SapModel.FrameObj.AddByCoord(0, 0, 0, 0, 0, 10, FrameName1, 'R1', '1', 'Global')\n",
    "[FrameName2, ret] = SapModel.FrameObj.AddByCoord(0, 0, 10, 8, 0, 16, FrameName2, 'R1', '2', 'Global')\n",
    "[FrameName3, ret] = SapModel.FrameObj.AddByCoord(-4, 0, 10, 0, 0, 10, FrameName3, 'R1', '3', 'Global')"
   ]
  },
  {
   "cell_type": "markdown",
   "metadata": {},
   "source": [
    "## Definimos restricciones"
   ]
  },
  {
   "cell_type": "code",
   "execution_count": null,
   "metadata": {},
   "outputs": [],
   "source": [
    "\n",
    "#assign point object restraint at base\n",
    "PointName1 = ' '\n",
    "PointName2 = ' '\n",
    "Restraint = [True, True, True, True, False, False]\n",
    "[PointName1, PointName2, ret] = SapModel.FrameObj.GetPoints(FrameName1, PointName1, PointName2)\n",
    "ret = SapModel.PointObj.SetRestraint(PointName1, Restraint)\n",
    "\n",
    "#assign point object restraint at top\n",
    "Restraint = [True, True, False, False, False, False]\n",
    "[PointName1, PointName2, ret] = SapModel.FrameObj.GetPoints(FrameName2, PointName1, PointName2)\n",
    "ret = SapModel.PointObj.SetRestraint(PointName2, Restraint)"
   ]
  },
  {
   "cell_type": "markdown",
   "metadata": {},
   "source": [
    "## Actualizamos el modelo"
   ]
  },
  {
   "cell_type": "code",
   "execution_count": null,
   "metadata": {},
   "outputs": [],
   "source": [
    "\n",
    "#refresh view, update (initialize) zoom\n",
    "ret = SapModel.View.RefreshView(0, False)"
   ]
  },
  {
   "cell_type": "markdown",
   "metadata": {},
   "source": [
    "## Load patterns"
   ]
  },
  {
   "cell_type": "code",
   "execution_count": null,
   "metadata": {},
   "outputs": [],
   "source": [
    "\n",
    "#add load patterns\n",
    "LTYPE_OTHER = 8\n",
    "ret = SapModel.LoadPatterns.Add('1', LTYPE_OTHER, 1, True)\n",
    "ret = SapModel.LoadPatterns.Add('2', LTYPE_OTHER, 0, True)\n",
    "ret = SapModel.LoadPatterns.Add('3', LTYPE_OTHER, 0, True)\n",
    "ret = SapModel.LoadPatterns.Add('4', LTYPE_OTHER, 0, True)\n",
    "ret = SapModel.LoadPatterns.Add('5', LTYPE_OTHER, 0, True)\n",
    "ret = SapModel.LoadPatterns.Add('6', LTYPE_OTHER, 0, True)\n",
    "ret = SapModel.LoadPatterns.Add('7', LTYPE_OTHER, 0, True)\n",
    "\n",
    "#assign loading for load pattern 2\n",
    "[PointName1, PointName2, ret] = SapModel.FrameObj.GetPoints(FrameName3, PointName1, PointName2)\n",
    "PointLoadValue = [0,0,-10,0,0,0]\n",
    "ret = SapModel.PointObj.SetLoadForce(PointName1, '2', PointLoadValue)\n",
    "ret = SapModel.FrameObj.SetLoadDistributed(FrameName3, '2', 1, 10, 0, 1, 1.8, 1.8)\n",
    "\n",
    "#assign loading for load pattern 3\n",
    "[PointName1, PointName2, ret] = SapModel.FrameObj.GetPoints(FrameName3, PointName1, PointName2)\n",
    "PointLoadValue = [0,0,-17.2,0,-54.4,0]\n",
    "ret = SapModel.PointObj.SetLoadForce(PointName2, '3', PointLoadValue)\n",
    "\n",
    "#assign loading for load pattern 4\n",
    "ret = SapModel.FrameObj.SetLoadDistributed(FrameName2, '4', 1, 11, 0, 1, 2, 2)\n",
    "\n",
    "#assign loading for load pattern 5\n",
    "ret = SapModel.FrameObj.SetLoadDistributed(FrameName1, '5', 1, 2, 0, 1, 2, 2, 'Local')\n",
    "ret = SapModel.FrameObj.SetLoadDistributed(FrameName2, '5', 1, 2, 0, 1, -2, -2, 'Local')\n",
    "\n",
    "#assign loading for load pattern 6\n",
    "ret = SapModel.FrameObj.SetLoadDistributed(FrameName1, '6', 1, 2, 0, 1, 0.9984, 0.3744, 'Local')\n",
    "ret = SapModel.FrameObj.SetLoadDistributed(FrameName2, '6', 1, 2, 0, 1, -0.3744, 0, 'Local')\n",
    "\n",
    "#assign loading for load pattern 7\n",
    "ret = SapModel.FrameObj.SetLoadPoint(FrameName2, '7', 1, 2, 0.5, -15, 'Local')"
   ]
  },
  {
   "cell_type": "markdown",
   "metadata": {},
   "source": [
    "## Guardamos el modelo"
   ]
  },
  {
   "cell_type": "code",
   "execution_count": 20,
   "metadata": {},
   "outputs": [],
   "source": [
    "\n",
    "# #switch to k-in units\n",
    "# kip_in_F = 3\n",
    "# ret = SapModel.SetPresentUnits(kip_in_F)\n",
    "os.makedirs(r\"D:\\Users\\User(D)\\Escritorio\\freeproyect\\Etabs\\prueba\",exist_ok=True)\n",
    "#save model\n",
    "ret = SapModel.File.Save(r'D:\\Users\\User(D)\\Escritorio\\freeproyect\\Etabs\\prueba\\ejemplo.edb')"
   ]
  },
  {
   "cell_type": "markdown",
   "metadata": {},
   "source": [
    "## Analizamos el modelo"
   ]
  },
  {
   "cell_type": "code",
   "execution_count": null,
   "metadata": {},
   "outputs": [],
   "source": [
    "#run model (this will create the analysis model)\n",
    "ret = SapModel.Analyze.RunAnalysis()"
   ]
  },
  {
   "cell_type": "markdown",
   "metadata": {},
   "source": [
    "## Extraemos informacion"
   ]
  },
  {
   "cell_type": "code",
   "execution_count": null,
   "metadata": {},
   "outputs": [],
   "source": [
    "#initialize for results\n",
    "ProgramResult = [0,0,0,0,0,0,0]\n",
    "[PointName1, PointName2, ret] = SapModel.FrameObj.GetPoints(FrameName2, PointName1, PointName2)\n",
    "\n",
    "#get results for load cases 1 through 7\n",
    "for i in range(0,7):\n",
    "      NumberResults = 0\n",
    "      Obj = []\n",
    "      Elm = []\n",
    "      ACase = []\n",
    "      StepType = []\n",
    "      StepNum = []\n",
    "      U1 = []\n",
    "      U2 = []\n",
    "      U3 = []\n",
    "      R1 = []\n",
    "      R2 = []\n",
    "      R3 = []\n",
    "      ObjectElm = 0\n",
    "      ret = SapModel.Results.Setup.DeselectAllCasesAndCombosForOutput()\n",
    "      ret = SapModel.Results.Setup.SetCaseSelectedForOutput(str(i + 1))\n",
    "      if i <= 3:\n",
    "          [NumberResults, Obj, Elm, ACase, StepType, StepNum, U1, U2, U3, R1, R2, R3, ret] = SapModel.Results.JointDispl(PointName2, ObjectElm, NumberResults, Obj, Elm, ACase, StepType, StepNum, U1, U2, U3, R1, R2, R3)\n",
    "          ProgramResult[i] = U3[0]\n",
    "      else:\n",
    "          [NumberResults, Obj, Elm, ACase, StepType, StepNum, U1, U2, U3, R1, R2, R3, ret] = SapModel.Results.JointDispl(PointName1, ObjectElm, NumberResults, Obj, Elm, ACase, StepType, StepNum, U1, U2, U3, R1, R2, R3)\n",
    "          ProgramResult[i] = U1[0]"
   ]
  },
  {
   "cell_type": "code",
   "execution_count": 6,
   "metadata": {},
   "outputs": [],
   "source": [
    "\n",
    "#close the program\n",
    "ret = myETABSObject.ApplicationExit(False)\n",
    "SapModel = None\n",
    "myETABSObject = None"
   ]
  },
  {
   "cell_type": "code",
   "execution_count": null,
   "metadata": {},
   "outputs": [],
   "source": [
    "\n",
    "#fill independent results\n",
    "IndResult = [0,0,0,0,0,0,0]\n",
    "IndResult[0] = -0.02639\n",
    "IndResult[1] = 0.06296\n",
    "IndResult[2] = 0.06296\n",
    "IndResult[3] = -0.2963\n",
    "IndResult[4] = 0.3125\n",
    "IndResult[5] = 0.11556\n",
    "IndResult[6] = 0.00651\n",
    "\n",
    "#fill percent difference\n",
    "PercentDiff = [0,0,0,0,0,0,0]\n",
    "for i in range(0,7):\n",
    "      PercentDiff[i] = (ProgramResult[i] / IndResult[i]) - 1\n",
    "\n",
    "#display results\n",
    "for i in range(0,7):\n",
    "      print()\n",
    "      print(ProgramResult[i])\n",
    "      print(IndResult[i])\n",
    "      print(PercentDiff[i])"
   ]
  }
 ],
 "metadata": {
  "kernelspec": {
   "display_name": "Python 3",
   "language": "python",
   "name": "python3"
  },
  "language_info": {
   "codemirror_mode": {
    "name": "ipython",
    "version": 3
   },
   "file_extension": ".py",
   "mimetype": "text/x-python",
   "name": "python",
   "nbconvert_exporter": "python",
   "pygments_lexer": "ipython3",
   "version": "3.9.13"
  }
 },
 "nbformat": 4,
 "nbformat_minor": 2
}
