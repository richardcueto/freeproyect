{
 "cells": [
  {
   "cell_type": "markdown",
   "metadata": {},
   "source": [
    "## Librerias"
   ]
  },
  {
   "cell_type": "code",
   "execution_count": 1,
   "metadata": {},
   "outputs": [],
   "source": [
    "import os\n",
    "import sys\n",
    "import comtypes.client\n",
    "import pandas as pd\n",
    "import numpy as np\n",
    "import matplotlib.pyplot as plt"
   ]
  },
  {
   "cell_type": "markdown",
   "metadata": {},
   "source": [
    "## SAP2000"
   ]
  },
  {
   "cell_type": "code",
   "execution_count": null,
   "metadata": {},
   "outputs": [],
   "source": [
    "AttachToInstance = False\n",
    "SpecifyPath = True\n",
    "ProgramPath = \"C:\\Program Files\\Computers and Structures\\SAP2000 22\\SAP2000.exe\"\n",
    "APIPath = r'D:\\Users\\User(D)\\Documentos\\GitHub\\freeproyect\\SAP2000\\Modelos'\n",
    "if not os.path.exists(APIPath):\n",
    "    try:\n",
    "        os.makedirs(APIPath)\n",
    "    except OSError:\n",
    "        pass\n",
    "ModelPath = APIPath + os.sep + 'portico.sdb'\n",
    "helper = comtypes.client.CreateObject('SAP2000v1.Helper')\n",
    "helper = helper.QueryInterface(comtypes.gen.SAP2000v1.cHelper)\n",
    "if AttachToInstance:\n",
    "    try:\n",
    "        mySapObject = helper.GetObject(\"CSI.SAP2000.API.ETABSObject\") \n",
    "    except (OSError, comtypes.COMError):\n",
    "        print(\"No running instance of the program found or failed to attach.\")\n",
    "        sys.exit(-1)\n",
    "else:\n",
    "    if SpecifyPath:\n",
    "        try:\n",
    "            mySapObject = helper.CreateObject(ProgramPath)\n",
    "        except (OSError, comtypes.COMError):\n",
    "            print(\"Cannot start a new instance of the program from \" + ProgramPath)\n",
    "            sys.exit(-1)\n",
    "    else:\n",
    "        try: \n",
    "            mySapObject = helper.CreateObjectProgID(\"CSI.SAP2000.API.ETABSObject\") \n",
    "        except (OSError, comtypes.COMError):\n",
    "            print(\"Cannot start a new instance of the program.\")\n",
    "            sys.exit(-1)\n",
    "    mySapObject.ApplicationStart()\n",
    "SapModel = mySapObject.SapModel\n",
    "SapModel.InitializeNewModel()"
   ]
  },
  {
   "cell_type": "markdown",
   "metadata": {},
   "source": [
    "## Modo de conexion con el programa\n",
    "+ Abriendo automaticamente una ventana de Etabas\n",
    "+ Ingresando informacion a traves de codigo python"
   ]
  },
  {
   "cell_type": "code",
   "execution_count": 2,
   "metadata": {},
   "outputs": [],
   "source": [
    "#True:Trabaja con el modelo existente\n",
    "#False:Crea un nuevo modelo\n",
    "AttachToInstance = False"
   ]
  },
  {
   "cell_type": "markdown",
   "metadata": {},
   "source": [
    "## Complemento de conexion"
   ]
  },
  {
   "cell_type": "code",
   "execution_count": 3,
   "metadata": {},
   "outputs": [],
   "source": [
    "#True:especifica manualmente la ruata a ETABS.exe\n",
    "#False:se usara la ultima version instalada de Etabs\n",
    "SpecifyPath = True\n",
    "\n",
    "#Si el indicador anterior esta en ruta, especifica la ruta a ETABS a continuacion\n",
    "ProgramPath = \"C:\\Program Files\\Computers and Structures\\ETABS 19\\ETABS.exe\"\n",
    "\n",
    "#ruta completa del modelo\n",
    "#ajuste a la ruta deseada de su modelo\n",
    "APIPath =r'D:\\Users\\User(D)\\Escritorio\\freeproyect\\Etabs'\n",
    "\n",
    "if not os.path.exists(APIPath):\n",
    "    try:\n",
    "        os.makedirs(APIPath)\n",
    "    except OSError:\n",
    "        pass\n",
    "ModelPath = APIPath + os.sep + 'API_1-001.edb'\n",
    "\n",
    "#Crea un objeto api de ayuda\n",
    "helper = comtypes.client.CreateObject('ETABSv1.Helper')\n",
    "helper = helper.QueryInterface(comtypes.gen.ETABSv1.cHelper)\n",
    "\n",
    "if AttachToInstance:\n",
    "    #attach to a running instance of ETABS\n",
    "    try:\n",
    "        #get the active ETABS object\n",
    "        myETABSObject = helper.GetObject(\"CSI.ETABS.API.ETABSObject\") \n",
    "    except (OSError, comtypes.COMError):\n",
    "        print(\"No running instance of the program found or failed to attach.\")\n",
    "        sys.exit(-1)\n",
    "else:\n",
    "    if SpecifyPath:\n",
    "        try:\n",
    "            #'create an instance of the ETABS object from the specified path\n",
    "            myETABSObject = helper.CreateObject(ProgramPath)\n",
    "        except (OSError, comtypes.COMError):\n",
    "            print(\"Cannot start a new instance of the program from \" + ProgramPath)\n",
    "            sys.exit(-1)\n",
    "    else:\n",
    "        try: \n",
    "            #create an instance of the ETABS object from the latest installed ETABS\n",
    "            myETABSObject = helper.CreateObjectProgID(\"CSI.ETABS.API.ETABSObject\") \n",
    "        except (OSError, comtypes.COMError):\n",
    "            print(\"Cannot start a new instance of the program.\")\n",
    "            sys.exit(-1)\n",
    "\n",
    "    #Comezar la aplicacion de ETABS\n",
    "    myETABSObject.ApplicationStart()\n",
    "\n",
    "#create SapModel object\n",
    "SapModel = myETABSObject.SapModel\n",
    "\n",
    "#initialize model\n",
    "SapModel.InitializeNewModel()"
   ]
  },
  {
   "cell_type": "markdown",
   "metadata": {},
   "source": [
    "## Definicion de espacio de trabajo\n",
    "+ NewBlank()\n",
    "+ NewGriddOnly()\n",
    "ret = SapModel.File.NewGridOnly(10,4,3,3,3,2,2)\n",
    "+ NewSteelDeck()\n",
    "ret = SapModel.File.NewSteelDeck(5,4,3,4,4,24,24)\n",
    "+ OpenFile()\n",
    "PathFile=\"\"\n",
    "ret = SapModel.File.OpenFile(PathFile)"
   ]
  },
  {
   "cell_type": "code",
   "execution_count": null,
   "metadata": {},
   "outputs": [],
   "source": [
    "SapModel.File.NewBlank()"
   ]
  },
  {
   "cell_type": "code",
   "execution_count": 4,
   "metadata": {},
   "outputs": [
    {
     "data": {
      "text/plain": [
       "0"
      ]
     },
     "execution_count": 4,
     "metadata": {},
     "output_type": "execute_result"
    }
   ],
   "source": [
    "SapModel.File.NewGridOnly(10,4,3,3,3,24,24)"
   ]
  },
  {
   "cell_type": "markdown",
   "metadata": {},
   "source": [
    "## Definimos propiedad de material\n",
    "+ Steel 1\n",
    "+ Concreto 2\n",
    "+ Acero de refuerzo 6\n",
    "+ Albañileria 8"
   ]
  },
  {
   "cell_type": "code",
   "execution_count": 5,
   "metadata": {},
   "outputs": [
    {
     "data": {
      "text/plain": [
       "0"
      ]
     },
     "execution_count": 5,
     "metadata": {},
     "output_type": "execute_result"
    }
   ],
   "source": [
    "#define material property\n",
    "MATERIAL_CONCRETE = 2   \n",
    "ret=SapModel.PropMaterial.SetMaterial('CONCRETO', \n",
    "                                        MATERIAL_CONCRETE)\n",
    "\n",
    "#assign isotropic mechanical properties to material\n",
    "ret=SapModel.PropMaterial.SetMPIsotropic('CONCRETO', \n",
    "                                           3600, #elasticidad\n",
    "                                           0.2,  #poison\n",
    "                                           0.0000055)#coef.termico"
   ]
  },
  {
   "cell_type": "code",
   "execution_count": 8,
   "metadata": {},
   "outputs": [],
   "source": [
    "#define material property\n",
    "REFUERZO = 6  \n",
    "ret=SapModel.PropMaterial.SetMaterial('REFUERZO', \n",
    "                                        REFUERZO)\n",
    "\n",
    "#assign isotropic mechanical properties to material\n",
    "ret=SapModel.PropMaterial.SetMPIsotropic('REFUERZO', \n",
    "                                        1234, #elasticidad\n",
    "                                        0.2,  #poison\n",
    "                                        0.0000055)#coef.termico"
   ]
  },
  {
   "cell_type": "code",
   "execution_count": 9,
   "metadata": {},
   "outputs": [],
   "source": [
    "ret=SapModel.PropMaterial.SetWeightAndMass('CONCRETO',1,280)"
   ]
  },
  {
   "cell_type": "code",
   "execution_count": 10,
   "metadata": {},
   "outputs": [],
   "source": [
    "ret=SapModel.PropMaterial.SetOConcrete('CONCRETO',5,False, 0, 1, 2, 0.0022, 0.0052)"
   ]
  },
  {
   "cell_type": "code",
   "execution_count": null,
   "metadata": {},
   "outputs": [],
   "source": [
    "ret = SapModel.PropMaterial.SetORebar(\"Rebar\", 62, 93, 70, 102, 2, 2, 0.02, 0.1, False)"
   ]
  },
  {
   "cell_type": "code",
   "execution_count": 12,
   "metadata": {},
   "outputs": [],
   "source": [
    "#define material property\n",
    "MAETERIAL_MASONRY = 8\n",
    "ret=Sret=SapModel.PropMaterial.SetMaterial('ALBAÑILERIA', \n",
    "                                        MAETERIAL_MASONRY)\n",
    "\n",
    "#assign isotropic mechanical properties to material\n",
    "ret=SapModel.PropMaterial.SetMPIsotropic('ALBAÑILERIA', \n",
    "                                        3600, #elasticidad\n",
    "                                        0.2,  #poison\n",
    "                                        0.0000055)#coef.termico"
   ]
  },
  {
   "cell_type": "markdown",
   "metadata": {},
   "source": [
    "## Definimos unidades\n",
    "+ kip_ft_F = 4\n",
    "+ kg_m_C=8\n",
    "+ tonf_m_C=12"
   ]
  },
  {
   "cell_type": "code",
   "execution_count": 13,
   "metadata": {},
   "outputs": [],
   "source": [
    "#switch to k-ft units\n",
    "kg_m_C=8\n",
    "ret = SapModel.SetPresentUnits(kg_m_C)"
   ]
  },
  {
   "cell_type": "markdown",
   "metadata": {},
   "source": [
    "## Definimos frames"
   ]
  },
  {
   "cell_type": "code",
   "execution_count": 14,
   "metadata": {},
   "outputs": [],
   "source": [
    "\n",
    "#define rectangular frame section property\n",
    "ret = SapModel.PropFrame.SetRectangle('R1', #Name\n",
    "                                      'CONCRETO', #Material\n",
    "                                      12, #peralte\n",
    "                                      12) #base"
   ]
  },
  {
   "cell_type": "code",
   "execution_count": 15,
   "metadata": {},
   "outputs": [],
   "source": [
    "ret = SapModel.PropFrame.SetRebarBeam('R1',             #nombre de frame existente\n",
    "                                    'REFUERZO',         #Material de acero longitudinal\n",
    "                                    'REFUERZO',         #Material de acero transversal\n",
    "                                    3.5,                #Recubrimiento superior\n",
    "                                    3,                  #Recubrimiento inferior\n",
    "                                    4.1,                #Top left area\n",
    "                                    4.2,                #Top Right area\n",
    "                                    4.3,                #Bottom left area\n",
    "                                    4.4)                #Bottom right area"
   ]
  },
  {
   "cell_type": "code",
   "execution_count": 17,
   "metadata": {},
   "outputs": [],
   "source": [
    "ret = SapModel.PropFrame.SetRebarColumn(\"R2\",           #Nombre de un frame existente\n",
    "                                        'REFUERZO',      #Material del acero longitudinal\n",
    "                                        'REFUERZO',      #Material del acero transversal\n",
    "                                        2,              #Patter(rectangular=1/circular=2)\n",
    "                                        2,              #Tipo de confinamiento(ties=1/espiral=2)\n",
    "                                        2,              #Recubrimiento de columna cm\n",
    "                                        10,             #solo aplica para columna circular, numero total de barras\n",
    "                                        0,              #solo aplica para la columna rectangular,numero de barras en el eje local 3\n",
    "                                        0,              #solo aplica para la columna rectangular,numero de barras en el eje local 1\n",
    "                                        \"#10\",          #Diametro del acero longitudinal\n",
    "                                        \"#5\",           #Diametro del acero transversal\n",
    "                                        4,              #espaciamiento de estribos\n",
    "                                        0,              #numero de estribos alrededor del eje local 2\n",
    "                                        0,              #numero de estribos alrededor del eje local 3\n",
    "                                        False)"
   ]
  },
  {
   "cell_type": "code",
   "execution_count": 18,
   "metadata": {},
   "outputs": [],
   "source": [
    "\n",
    "#define frame section property modifiers\n",
    "ModValue = [1000, 0, 0, 1, 1, 1, 1, 1]\n",
    "ret = SapModel.PropFrame.SetModifiers('R1', ModValue)"
   ]
  },
  {
   "cell_type": "markdown",
   "metadata": {},
   "source": [
    "## Slab\n",
    "Slab Type\n",
    "+ Slab=0\n",
    "+ Drop=1\n",
    "\n",
    "Shell Type\n",
    "+ ShellThin=1\n",
    "+ ShellThick=2"
   ]
  },
  {
   "cell_type": "code",
   "execution_count": 19,
   "metadata": {},
   "outputs": [],
   "source": [
    "ret = SapModel.PropArea.SetSlab('Losa maciza',#Name\n",
    "                                0,#Slab Type\n",
    "                                1,#Shell Type\n",
    "                                'CONCRETO',#Material\n",
    "                                15)#Thickness"
   ]
  },
  {
   "cell_type": "code",
   "execution_count": null,
   "metadata": {},
   "outputs": [],
   "source": [
    "ret = SapModel.PropArea.SetSlab('Losa maciza',0,1,'CONCRETO',15)"
   ]
  },
  {
   "cell_type": "markdown",
   "metadata": {},
   "source": [
    "## Wall\n",
    "Wall Type\n",
    "+ Specified=1\n",
    "+ AutoSelectList=2\n",
    "\n",
    "Shell Type\n",
    "+ ShellThin=1\n",
    "+ ShellThick=2\n",
    "+ Membrane=3\n",
    "+ Layered=6"
   ]
  },
  {
   "cell_type": "code",
   "execution_count": null,
   "metadata": {},
   "outputs": [],
   "source": [
    "ret = SapModel.PropArea.SetWall('MURO ALBAÑILERIA', #Name\n",
    "                                1, #Wall Type\n",
    "                                1,  #Shell Type\n",
    "                                'ALBAÑILERIA',      #Material\n",
    "                                14.2)           #Thickness"
   ]
  },
  {
   "cell_type": "code",
   "execution_count": null,
   "metadata": {},
   "outputs": [],
   "source": [
    "ret = SapModel.PropArea.SetWall('MURO ALBAÑILERIA', 1,1, 'ALBAÑILERIA',14.2) "
   ]
  },
  {
   "cell_type": "markdown",
   "metadata": {},
   "source": [
    "## Diaphragm"
   ]
  },
  {
   "cell_type": "code",
   "execution_count": null,
   "metadata": {},
   "outputs": [],
   "source": [
    "#Creacion de diaphragm\n",
    "ret=SapModel.Diaphragm.SetDiaphragm('D1',#name\n",
    "                            SemiRigid=True),#booleano\n",
    "\n",
    "# obtenemos nombre y etiqueta de los diaphragm\n",
    "ret=SapModel.AreaObj.GetLabelNameList('numer name',# nombre de numero\n",
    "                                      'D1',#my nombre\n",
    "                                      'label',#my etiqueta\n",
    "                                      'story'),#my story\n",
    "\n",
    "# asignacion de diaphragm\n",
    "ret=SapModel.cAreaObj.SetDiaphragm('D1',#name\n",
    "                                   'D1')#DiaphragmName "
   ]
  },
  {
   "cell_type": "markdown",
   "metadata": {},
   "source": [
    "### Agregamos Frame"
   ]
  },
  {
   "cell_type": "code",
   "execution_count": null,
   "metadata": {},
   "outputs": [],
   "source": [
    "\n",
    "#add frame object by coordinates\n",
    "FrameName1 = ' '\n",
    "FrameName2 = ' '\n",
    "FrameName3 = ' '\n",
    "[FrameName1, ret] = SapModel.FrameObj.AddByCoord(0, 0, 0, 0, 0, 10, FrameName1, 'R1', '1', 'Global')\n",
    "[FrameName2, ret] = SapModel.FrameObj.AddByCoord(0, 0, 10, 8, 0, 16, FrameName2, 'R1', '2', 'Global')\n",
    "[FrameName3, ret] = SapModel.FrameObj.AddByCoord(-4, 0, 10, 0, 0, 10, FrameName3, 'R1', '3', 'Global')"
   ]
  },
  {
   "cell_type": "code",
   "execution_count": null,
   "metadata": {},
   "outputs": [],
   "source": [
    "ret=SapModel.Diaphragm.SetDiaphragm('D1',SemiRigid=True)\n",
    "ret=SapModel.AreaObj.GetLabelNameList('numer name','D1','label','story')"
   ]
  },
  {
   "cell_type": "markdown",
   "metadata": {},
   "source": [
    "## Agregamos Wall"
   ]
  },
  {
   "cell_type": "code",
   "execution_count": null,
   "metadata": {},
   "outputs": [],
   "source": [
    "ret = SapModel.AreaObj.AddByCoord(6, #numero de puntos\n",
    "                                  x, #coordenas lista x\n",
    "                                  y, #coordenas lista y\n",
    "                                  z, #coordenas lista z\n",
    "                                  \"muro\") #nombre"
   ]
  },
  {
   "cell_type": "code",
   "execution_count": null,
   "metadata": {},
   "outputs": [],
   "source": [
    "ret = SapModel.AreaObj.AddByCoord(6, x, y, z, Name)"
   ]
  },
  {
   "cell_type": "markdown",
   "metadata": {},
   "source": [
    "## Load patterns\n",
    "LoadPatternType\n",
    "+ Dead=1\n",
    "+ SuperDead=2\n",
    "+ Live=3\n",
    "+ ReduceLive=4\n",
    "+ Quake=5\n",
    "+ Wind=6\n",
    "+ Snow=7\n",
    "+ Other=8\n",
    "+ Move=9\n",
    "+ Temperature=10\n",
    "+ Rooflive=11"
   ]
  },
  {
   "cell_type": "code",
   "execution_count": null,
   "metadata": {},
   "outputs": [],
   "source": [
    "\n",
    "#add load patterns\n",
    "ret = SapModel.LoadPatterns.Add('Dead',     #Name\n",
    "                                1,          #LoadPatternType \n",
    "                                1,          #Self weight multiplier           \n",
    "                                True)       #Analis caso\n",
    "\n",
    "ret = SapModel.LoadPatterns.Add('SuperDead', 2, 0, True)\n",
    "ret = SapModel.LoadPatterns.Add('Live', 3, 0, True)\n",
    "ret = SapModel.LoadPatterns.Add('ReduceLive', 4, 0, True)\n",
    "ret = SapModel.LoadPatterns.Add('Quake', 5, 0, True)\n",
    "ret = SapModel.LoadPatterns.Add('Wind', 6, 0, True)\n",
    "ret = SapModel.LoadPatterns.Add('Snow', 7, 0, True)"
   ]
  },
  {
   "cell_type": "markdown",
   "metadata": {},
   "source": [
    "## Carga Puntual"
   ]
  },
  {
   "cell_type": "code",
   "execution_count": null,
   "metadata": {},
   "outputs": [],
   "source": [
    "\n",
    "#assign loading for load pattern\n",
    "PointLoadValue = [0,0,-10,0,0,0]\n",
    "ret = SapModel.PointObj.SetLoadForce(\"punto 1\",'Dead',PointLoadValue)\n",
    "ret = SapModel.PointObj.SetLoadForce(\"punto 1\", #Name\n",
    "                                    'Dead',           #LoadPattern\n",
    "                                    PointLoadValue) #point\n",
    "ret = SapModel.PointObj.SetLoadForce(\"punto 1\",'Dead',PointLoadValue)\n"
   ]
  },
  {
   "cell_type": "code",
   "execution_count": null,
   "metadata": {},
   "outputs": [],
   "source": [
    "Pointi=\"\"\n",
    "Pointj=\"\"\n",
    "[PointName1, PointName2, ret] = SapModel.FrameObj.GetPoints(FrameName3, Pointi, Pointj)\n",
    "PointLoadValue = [0,0,-10,0,0,0]\n",
    "ret = SapModel.PointObj.SetLoadForce(\"punto 1\",'Dead',PointLoadValue)"
   ]
  },
  {
   "cell_type": "markdown",
   "metadata": {},
   "source": [
    "## Carga Distribuida\n",
    "+ 1.Local 1 axis (only applies when CSys is Local)\n",
    "+ 2.Local 2 axis (only applies when CSys is Local)\n",
    "+ 3.Local 3 axis (only applies when CSys is Local)\n",
    "+ 4.X direction (does not apply when CSys is Local)\n",
    "+ 5.Y direction (does not apply when CSys is Local)\n",
    "+ 6.Z direction (does not apply when CSys is Local)\n",
    "+ 7.Projected X direction (does not apply when CSys is Local)\n",
    "+ 8.Projected Y direction (does not apply when CSys is Local)\n",
    "+ 9.Projected Z direction (does not apply when CSys is Local)\n",
    "+ 10.Gravity direction (only applies when CSys is Global)\n",
    "+ 11.Projected Gravity direction (only applies when CSys is Global)"
   ]
  },
  {
   "cell_type": "code",
   "execution_count": null,
   "metadata": {},
   "outputs": [],
   "source": [
    "ret = SapModel.FrameObj.SetLoadDistributed(FrameName3, #Name\n",
    "                                           '2', #LoadPattern\n",
    "                                           1, #Type of load distribution 1:F/L 2:M/L\n",
    "                                           10, #Direccion de Load Distribution\n",
    "                                           0, #Distancia of start of load distribution(relative por default)\n",
    "                                           1, #Distancia of end of load distribution(relative por default)\n",
    "                                           1.8, #Value of start of load distribution\n",
    "                                           1.8,\n",
    "                                           \"Global\")#Value of end of load distribution\n",
    "    #existen mas parametros a modificar"
   ]
  },
  {
   "cell_type": "code",
   "execution_count": null,
   "metadata": {},
   "outputs": [],
   "source": [
    "ret = SapModel.FrameObj.SetLoadDistributed(FrameName3,'2',1,10,0,1,1.8,1.8)"
   ]
  },
  {
   "cell_type": "code",
   "execution_count": null,
   "metadata": {},
   "outputs": [],
   "source": [
    "\n",
    "#assign loading for load pattern 3\n",
    "[PointName1, PointName2, ret] = SapModel.FrameObj.GetPoints(FrameName3, PointName1, PointName2)\n",
    "PointLoadValue = [0,0,-17.2,0,-54.4,0]\n",
    "ret = SapModel.PointObj.SetLoadForce(PointName2, '3', PointLoadValue)\n",
    "\n",
    "#assign loading for load pattern 4\n",
    "ret = SapModel.FrameObj.SetLoadDistributed(FrameName2, '4', 1, 11, 0, 1, 2, 2)\n",
    "\n",
    "#assign loading for load pattern 5\n",
    "ret = SapModel.FrameObj.SetLoadDistributed(FrameName1, '5', 1, 2, 0, 1, 2, 2, 'Local')\n",
    "ret = SapModel.FrameObj.SetLoadDistributed(FrameName2, '5', 1, 2, 0, 1, -2, -2, 'Local')\n",
    "\n",
    "#assign loading for load pattern 6\n",
    "ret = SapModel.FrameObj.SetLoadDistributed(FrameName1, '6', 1, 2, 0, 1, 0.9984, 0.3744, 'Local')\n",
    "ret = SapModel.FrameObj.SetLoadDistributed(FrameName2, '6', 1, 2, 0, 1, -0.3744, 0, 'Local')\n",
    "\n",
    "#assign loading for load pattern 7\n",
    "ret = SapModel.FrameObj.SetLoadPoint(FrameName2, '7', 1, 2, 0.5, -15, 'Local')"
   ]
  },
  {
   "cell_type": "markdown",
   "metadata": {},
   "source": [
    "## Definimos restricciones"
   ]
  },
  {
   "cell_type": "code",
   "execution_count": null,
   "metadata": {},
   "outputs": [],
   "source": [
    "\n",
    "#assign point object restraint at base\n",
    "PointName1 = ' '\n",
    "PointName2 = ' '\n",
    "Restraint = [True, True, True, True, False, False]\n",
    "[PointName1, PointName2, ret] = SapModel.FrameObj.GetPoints(FrameName1, PointName1, PointName2)\n",
    "ret = SapModel.PointObj.SetRestraint(PointName1, Restraint)\n",
    "\n",
    "#assign point object restraint at top\n",
    "Restraint = [True, True, False, False, False, False]\n",
    "[PointName1, PointName2, ret] = SapModel.FrameObj.GetPoints(FrameName2, PointName1, PointName2)\n",
    "ret = SapModel.PointObj.SetRestraint(PointName2, Restraint)"
   ]
  },
  {
   "cell_type": "markdown",
   "metadata": {},
   "source": [
    "## Actualizamos el modelo"
   ]
  },
  {
   "cell_type": "code",
   "execution_count": 13,
   "metadata": {},
   "outputs": [],
   "source": [
    "\n",
    "#refresh view, update (initialize) zoom\n",
    "ret = SapModel.View.RefreshView(0, False)"
   ]
  },
  {
   "cell_type": "markdown",
   "metadata": {},
   "source": [
    "## Guardamos el modelo"
   ]
  },
  {
   "cell_type": "code",
   "execution_count": null,
   "metadata": {},
   "outputs": [],
   "source": [
    "#save model\n",
    "os.makedirs(r\"D:\\Users\\User(D)\\Escritorio\\freeproyect\\Etabs\\prueba\",exist_ok=True)\n",
    "ret = SapModel.File.Save(r'D:\\Users\\User(D)\\Escritorio\\freeproyect\\Etabs\\prueba\\ejemplo.edb')"
   ]
  },
  {
   "cell_type": "markdown",
   "metadata": {},
   "source": [
    "## Analizamos el modelo"
   ]
  },
  {
   "cell_type": "code",
   "execution_count": null,
   "metadata": {},
   "outputs": [],
   "source": [
    "#run model (this will create the analysis model)\n",
    "ret = SapModel.Analyze.RunAnalysis()"
   ]
  },
  {
   "cell_type": "markdown",
   "metadata": {},
   "source": [
    "## Extraemos informacion"
   ]
  },
  {
   "cell_type": "code",
   "execution_count": null,
   "metadata": {},
   "outputs": [],
   "source": [
    "#initialize for results\n",
    "ProgramResult = [0,0,0,0,0,0,0]\n",
    "[PointName1, PointName2, ret] = SapModel.FrameObj.GetPoints(FrameName2, PointName1, PointName2)\n",
    "\n",
    "#get results for load cases 1 through 7\n",
    "for i in range(0,7):\n",
    "      NumberResults = 0\n",
    "      Obj = []\n",
    "      Elm = []\n",
    "      ACase = []\n",
    "      StepType = []\n",
    "      StepNum = []\n",
    "      U1 = []\n",
    "      U2 = []\n",
    "      U3 = []\n",
    "      R1 = []\n",
    "      R2 = []\n",
    "      R3 = []\n",
    "      ObjectElm = 0\n",
    "      ret = SapModel.Results.Setup.DeselectAllCasesAndCombosForOutput()\n",
    "      ret = SapModel.Results.Setup.SetCaseSelectedForOutput(str(i + 1))\n",
    "      if i <= 3:\n",
    "          [NumberResults, Obj, Elm, ACase, StepType, StepNum, U1, U2, U3, R1, R2, R3, ret] = SapModel.Results.JointDispl(PointName2, ObjectElm, NumberResults, Obj, Elm, ACase, StepType, StepNum, U1, U2, U3, R1, R2, R3)\n",
    "          ProgramResult[i] = U3[0]\n",
    "      else:\n",
    "          [NumberResults, Obj, Elm, ACase, StepType, StepNum, U1, U2, U3, R1, R2, R3, ret] = SapModel.Results.JointDispl(PointName1, ObjectElm, NumberResults, Obj, Elm, ACase, StepType, StepNum, U1, U2, U3, R1, R2, R3)\n",
    "          ProgramResult[i] = U1[0]"
   ]
  },
  {
   "cell_type": "code",
   "execution_count": null,
   "metadata": {},
   "outputs": [],
   "source": [
    "\n",
    "#close the program\n",
    "ret = myETABSObject.ApplicationExit(False)\n",
    "SapModel = None\n",
    "myETABSObject = None"
   ]
  },
  {
   "cell_type": "code",
   "execution_count": null,
   "metadata": {},
   "outputs": [],
   "source": [
    "\n",
    "#fill independent results\n",
    "IndResult = [0,0,0,0,0,0,0]\n",
    "IndResult[0] = -0.02639\n",
    "IndResult[1] = 0.06296\n",
    "IndResult[2] = 0.06296\n",
    "IndResult[3] = -0.2963\n",
    "IndResult[4] = 0.3125\n",
    "IndResult[5] = 0.11556\n",
    "IndResult[6] = 0.00651\n",
    "\n",
    "#fill percent difference\n",
    "PercentDiff = [0,0,0,0,0,0,0]\n",
    "for i in range(0,7):\n",
    "      PercentDiff[i] = (ProgramResult[i] / IndResult[i]) - 1\n",
    "\n",
    "#display results\n",
    "for i in range(0,7):\n",
    "      print()\n",
    "      print(ProgramResult[i])\n",
    "      print(IndResult[i])\n",
    "      print(PercentDiff[i])"
   ]
  },
  {
   "cell_type": "code",
   "execution_count": null,
   "metadata": {},
   "outputs": [],
   "source": []
  }
 ],
 "metadata": {
  "kernelspec": {
   "display_name": "Python 3",
   "language": "python",
   "name": "python3"
  },
  "language_info": {
   "codemirror_mode": {
    "name": "ipython",
    "version": 3
   },
   "file_extension": ".py",
   "mimetype": "text/x-python",
   "name": "python",
   "nbconvert_exporter": "python",
   "pygments_lexer": "ipython3",
   "version": "3.9.13"
  }
 },
 "nbformat": 4,
 "nbformat_minor": 2
}
