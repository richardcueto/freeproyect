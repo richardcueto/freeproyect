{
 "cells": [
  {
   "cell_type": "code",
   "execution_count": null,
   "metadata": {},
   "outputs": [],
   "source": [
    "concrete_slab=1.5#1.5kn/m3\n",
    "plaster_ceiling=0.24#.24kn/m2\n",
    "wall=16.5#16.5kn/m3\n",
    "result=concrete_slab*1*1.8+plaster_ceiling*1.8+wall*3*.3\n",
    "result"
   ]
  },
  {
   "cell_type": "code",
   "execution_count": 6,
   "metadata": {},
   "outputs": [],
   "source": [
    "l_0=2.4#table 1.4(kn/m2)\n",
    "K_LL=4#interior columna 4\n",
    "A_T=36#m2\n",
    "f=(0.25+4.57/(K_LL*A_T)**.5)\n",
    "if f>0.5 and l_0<4.79:\n",
    "  L=l_0*f#37.2\n",
    "  F=L*A_T\n",
    "else:\n",
    "  print(\"No se puede reducir\")"
   ]
  },
  {
   "cell_type": "code",
   "execution_count": 7,
   "metadata": {},
   "outputs": [
    {
     "data": {
      "text/plain": [
       "(0.6308333333333334, 1.514, 54.504)"
      ]
     },
     "execution_count": 7,
     "metadata": {},
     "output_type": "execute_result"
    }
   ],
   "source": [
    "f,L,F"
   ]
  },
  {
   "cell_type": "code",
   "execution_count": null,
   "metadata": {},
   "outputs": [],
   "source": []
  }
 ],
 "metadata": {
  "kernelspec": {
   "display_name": "Python 3",
   "language": "python",
   "name": "python3"
  },
  "language_info": {
   "codemirror_mode": {
    "name": "ipython",
    "version": 3
   },
   "file_extension": ".py",
   "mimetype": "text/x-python",
   "name": "python",
   "nbconvert_exporter": "python",
   "pygments_lexer": "ipython3",
   "version": "3.10.12"
  }
 },
 "nbformat": 4,
 "nbformat_minor": 2
}
