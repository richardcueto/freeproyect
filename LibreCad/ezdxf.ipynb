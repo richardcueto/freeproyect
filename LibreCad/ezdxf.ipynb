{
 "cells": [
  {
   "cell_type": "markdown",
   "metadata": {},
   "source": [
    "# IMPORTAMOS LA LIBRERIA EZDXF"
   ]
  },
  {
   "cell_type": "code",
   "execution_count": 1,
   "metadata": {},
   "outputs": [],
   "source": [
    "import ezdxf\n",
    "# from ezdxf import units"
   ]
  },
  {
   "cell_type": "markdown",
   "metadata": {},
   "source": [
    "## creamos o abrimos un archivo dxf y configuramos unidades"
   ]
  },
  {
   "cell_type": "code",
   "execution_count": null,
   "metadata": {},
   "outputs": [],
   "source": [
    "# Crear un nuevo documento DXF\n",
    "doc = ezdxf.new()\n",
    "# doc = ezdxf.new(\"R12\") puede especificar\n",
    "# doc = ezdxf.new(setup=True) estandar\n",
    "# doc = ezdxf.new('R2007', setup=True)"
   ]
  },
  {
   "cell_type": "code",
   "execution_count": 2,
   "metadata": {},
   "outputs": [],
   "source": [
    "# Abrir el archivo DXF\n",
    "doc = ezdxf.readfile('ejemploborrar.dxf')"
   ]
  },
  {
   "cell_type": "code",
   "execution_count": null,
   "metadata": {},
   "outputs": [],
   "source": [
    "# Set centimeter as document/modelspace units\n",
    "doc.units = units.CM\n",
    "# which is a shortcut (including validation) for\n",
    "doc.header['$INSUNITS'] = units.CM"
   ]
  },
  {
   "cell_type": "code",
   "execution_count": null,
   "metadata": {},
   "outputs": [],
   "source": [
    "doc.units = units.M\n",
    "my_block = doc.blocks.new('MYBLOCK')\n",
    "my_block.units = units.CM\n",
    "block_ref = msp.add_block_ref('MYBLOCK')\n",
    "# Set uniform scaling for x-, y- and z-axis\n",
    "block_ref.set_scale(0.01)"
   ]
  },
  {
   "cell_type": "code",
   "execution_count": null,
   "metadata": {},
   "outputs": [],
   "source": [
    "factor = units.conversion_factor(doc.units, my_block.units)\n",
    "# factor = 100 for 1m is 100cm\n",
    "# scaling factor = 1 / factor\n",
    "block_ref.set_scale(1.0/factor)"
   ]
  },
  {
   "cell_type": "code",
   "execution_count": null,
   "metadata": {},
   "outputs": [],
   "source": [
    "$LUNITS\n",
    "$AUNITS   \n",
    "doc.header['$INSUNITS'] = 6\n",
    "doc.header['$MEASUREMENT'] = 1\n",
    "doc.header['$LUNITS'] = 2\n",
    "doc.header['$AUNITS'] = 0"
   ]
  },
  {
   "cell_type": "code",
   "execution_count": null,
   "metadata": {},
   "outputs": [],
   "source": [
    "ZOOM extents\n",
    "ZOOM all"
   ]
  },
  {
   "cell_type": "markdown",
   "metadata": {},
   "source": [
    "## ingresamos al modelspace y agregamos la entidad"
   ]
  },
  {
   "cell_type": "code",
   "execution_count": 5,
   "metadata": {},
   "outputs": [],
   "source": [
    "# Acceder al modelspace\n",
    "msp = doc.modelspace()"
   ]
  },
  {
   "cell_type": "markdown",
   "metadata": {},
   "source": [
    "### layer"
   ]
  },
  {
   "cell_type": "code",
   "execution_count": null,
   "metadata": {},
   "outputs": [],
   "source": [
    "my_layer = doc.layers.add(\"MyLayer\")\n",
    "my_layer.color = 1\n",
    "my_layer.off()"
   ]
  },
  {
   "cell_type": "code",
   "execution_count": null,
   "metadata": {},
   "outputs": [],
   "source": [
    "#default linetype 'Continuous'\n",
    "#default color 7\n",
    "#default lineweight -3(0.25mm)\n",
    "#on,of,frozen:pan o regen,locked"
   ]
  },
  {
   "cell_type": "code",
   "execution_count": null,
   "metadata": {},
   "outputs": [],
   "source": [
    "# activate on screen lineweight display\n",
    "doc.header[\"$LWDISPLAY\"] = 1"
   ]
  },
  {
   "cell_type": "markdown",
   "metadata": {},
   "source": [
    "### linea"
   ]
  },
  {
   "cell_type": "code",
   "execution_count": null,
   "metadata": {},
   "outputs": [],
   "source": [
    "# Agregar entidades al dibujo\n",
    "msp.add_line(start=(0, 0), end=(10, 0))\n",
    "msp.add_line(start=(10, 0), end=(10, 10))\n",
    "msp.add_line(start=(10, 10), end=(0, 10))\n",
    "msp.add_line(start=(0, 10), end=(0, 0))"
   ]
  },
  {
   "cell_type": "code",
   "execution_count": null,
   "metadata": {},
   "outputs": [],
   "source": [
    "line = msp.add_line((0, 0), (1, 0))\n",
    "msp.delete_entity(line)\n",
    "line.destroy()"
   ]
  },
  {
   "cell_type": "code",
   "execution_count": 9,
   "metadata": {},
   "outputs": [],
   "source": [
    "line = msp.add_line((0, -0.5), (4, -0.5))\n",
    "line.rgb = (255, 128, 32) #color\n",
    "line.transparency = 0.5 #transparencia"
   ]
  },
  {
   "cell_type": "code",
   "execution_count": 9,
   "metadata": {},
   "outputs": [
    {
     "data": {
      "text/plain": [
       "<class 'ezdxf.entities.line.Line'> LINE(#20014)"
      ]
     },
     "execution_count": 9,
     "metadata": {},
     "output_type": "execute_result"
    }
   ],
   "source": [
    "msp.add_line((0, 0), (1, 0), dxfattribs={\"layer\": \"MyLayer\"})\n",
    "msp.add_line((0, 0.5), (2, 0), dxfattribs={\"layer\": \"MyLayer\"})\n",
    "msp.add_line((0, 1), (3, 0), dxfattribs={\"layer\": \"MyLayer\"})"
   ]
  },
  {
   "cell_type": "markdown",
   "metadata": {},
   "source": [
    "### circle"
   ]
  },
  {
   "cell_type": "code",
   "execution_count": 14,
   "metadata": {},
   "outputs": [],
   "source": [
    "circulo=msp.add_circle(center=(0,0),radius=5)"
   ]
  },
  {
   "cell_type": "code",
   "execution_count": 16,
   "metadata": {},
   "outputs": [
    {
     "data": {
      "text/plain": [
       "<class 'ezdxf.entities.hatch.Hatch'> HATCH(#20020)"
      ]
     },
     "execution_count": 16,
     "metadata": {},
     "output_type": "execute_result"
    }
   ],
   "source": [
    "msp.add_hatch(color=7)"
   ]
  },
  {
   "cell_type": "code",
   "execution_count": 18,
   "metadata": {},
   "outputs": [
    {
     "data": {
      "text/plain": [
       "<class 'ezdxf.entities.text.Text'> TEXT(#20021)"
      ]
     },
     "execution_count": 18,
     "metadata": {},
     "output_type": "execute_result"
    }
   ],
   "source": [
    "msp.add_text(\"hello\")\n"
   ]
  },
  {
   "cell_type": "code",
   "execution_count": null,
   "metadata": {},
   "outputs": [],
   "source": [
    "import ezdxf\n",
    "from ezdxf.entities import Line\n",
    "\n",
    "doc = ezdxf.new()\n",
    "msp = doc.modelspace()\n",
    "line = Line.new(\n",
    "    dxfattribs={\n",
    "        \"start\": (0, 0, 0),\n",
    "        \"end\": (3, 0, 0),\n",
    "        \"color\": 2,\n",
    "    }\n",
    ")\n",
    "msp.add_entity(line)"
   ]
  },
  {
   "cell_type": "code",
   "execution_count": null,
   "metadata": {},
   "outputs": [],
   "source": [
    "my_block_ref = msp.add_blockref('BlockName', location, dxfattribs={\n",
    "    'xscale': 1.0,\n",
    "    'yscale': 1.0,\n",
    "    'zscale': 1.0,\n",
    "    'rotation': angle,\n",
    "})"
   ]
  },
  {
   "cell_type": "markdown",
   "metadata": {},
   "source": [
    "### block"
   ]
  },
  {
   "cell_type": "code",
   "execution_count": null,
   "metadata": {},
   "outputs": [],
   "source": [
    "msp.add_blockref(\"MyBlock\", (0, 0))"
   ]
  },
  {
   "cell_type": "code",
   "execution_count": null,
   "metadata": {},
   "outputs": [],
   "source": [
    "my_block = doc.blocks.new(\"MyBlock\")"
   ]
  },
  {
   "cell_type": "code",
   "execution_count": null,
   "metadata": {},
   "outputs": [],
   "source": [
    "blk = doc.blocks.get(\"NAME\")"
   ]
  },
  {
   "cell_type": "markdown",
   "metadata": {},
   "source": [
    "## ingresamos al paperspace"
   ]
  },
  {
   "cell_type": "code",
   "execution_count": null,
   "metadata": {},
   "outputs": [],
   "source": [
    "psp = doc.paperspace(\"Layout1\")"
   ]
  },
  {
   "cell_type": "markdown",
   "metadata": {},
   "source": [
    "## Consulta sobre entidades en el dibujo"
   ]
  },
  {
   "cell_type": "code",
   "execution_count": 10,
   "metadata": {},
   "outputs": [
    {
     "name": "stdout",
     "output_type": "stream",
     "text": [
      "Línea de (0.0, 0.0) a (1.0, 0.0)\n",
      "Línea de (0.0, 0.5) a (2.0, 0.0)\n",
      "Línea de (0.0, 1.0) a (3.0, 0.0)\n",
      "Línea de (0.0, -0.5) a (4.0, -0.5)\n",
      "Línea de (0.0, 0.0) a (3.0, 0.0)\n",
      "Línea de (0.0, -0.5) a (4.0, -0.5)\n"
     ]
    }
   ],
   "source": [
    "\n",
    "# Iterar sobre las entidades en el dibujo\n",
    "for entity in msp:\n",
    "    # Verificar el tipo de entidad\n",
    "    if entity.dxftype() == 'LINE':\n",
    "        start_point = entity.dxf.start\n",
    "        end_point = entity.dxf.end\n",
    "        print(f'Línea de ({start_point.x}, {start_point.y}) a ({end_point.x}, {end_point.y})')\n",
    "    # Puedes agregar más verificaciones para otros tipos de entidades aquí"
   ]
  },
  {
   "cell_type": "code",
   "execution_count": null,
   "metadata": {},
   "outputs": [],
   "source": [
    "ezdxf.entities.Layer"
   ]
  },
  {
   "cell_type": "code",
   "execution_count": null,
   "metadata": {},
   "outputs": [],
   "source": [
    "for text in doc.entitydb.query(\"TEXT\"):\n",
    "    print(text.dxf.text)"
   ]
  },
  {
   "cell_type": "code",
   "execution_count": 8,
   "metadata": {},
   "outputs": [
    {
     "name": "stdout",
     "output_type": "stream",
     "text": [
      "<ezdxf.query.EntityQuery object at 0x7f40f0a6d750>\n",
      "[]\n"
     ]
    }
   ],
   "source": [
    "lines = msp.query('LINE[layer==\"MyLayer\"]')\n",
    "print(lines)\n",
    "all_lines_by_color = msp.query(\"circleE\").groupby(\"color\")\n",
    "lines_with_color_1 = all_lines_by_color.get(1, [])\n",
    "print(lines_with_color_1)"
   ]
  },
  {
   "cell_type": "markdown",
   "metadata": {},
   "source": [
    "## guardar el archivo dxf"
   ]
  },
  {
   "cell_type": "code",
   "execution_count": 17,
   "metadata": {},
   "outputs": [],
   "source": [
    "# Guardar el archivo DXF\n",
    "name_save='ejemploborrar.dxf'\n",
    "doc.saveas(name_save)"
   ]
  }
 ],
 "metadata": {
  "kernelspec": {
   "display_name": "Python 3",
   "language": "python",
   "name": "python3"
  },
  "language_info": {
   "codemirror_mode": {
    "name": "ipython",
    "version": 3
   },
   "file_extension": ".py",
   "mimetype": "text/x-python",
   "name": "python",
   "nbconvert_exporter": "python",
   "pygments_lexer": "ipython3",
   "version": "3.10.12"
  }
 },
 "nbformat": 4,
 "nbformat_minor": 2
}
