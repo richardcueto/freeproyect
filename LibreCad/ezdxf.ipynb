{
 "cells": [
  {
   "cell_type": "code",
   "execution_count": 1,
   "metadata": {},
   "outputs": [],
   "source": [
    "import ezdxf\n",
    "\n",
    "# Crear un nuevo documento DXF\n",
    "doc = ezdxf.new()\n",
    "\n",
    "# Agregar un nuevo dibujo al documento\n",
    "msp = doc.modelspace()\n",
    "\n",
    "# Agregar entidades al dibujo\n",
    "msp.add_line(start=(0, 0), end=(10, 0))\n",
    "msp.add_line(start=(10, 0), end=(10, 10))\n",
    "msp.add_line(start=(10, 10), end=(0, 10))\n",
    "msp.add_line(start=(0, 10), end=(0, 0))\n",
    "\n",
    "# Guardar el archivo DXF\n",
    "doc.saveas('ejemplo.dxf')\n"
   ]
  },
  {
   "cell_type": "code",
   "execution_count": 4,
   "metadata": {},
   "outputs": [
    {
     "name": "stdout",
     "output_type": "stream",
     "text": [
      "Línea de (0.0, 0.0) a (10.0, 0.0)\n",
      "Línea de (10.0, 0.0) a (10.0, 10.0)\n",
      "Línea de (10.0, 10.0) a (0.0, 10.0)\n",
      "Línea de (0.0, 10.0) a (0.0, 0.0)\n",
      "Línea de (0.0, 10.0) a (0.0, 0.0)\n",
      "Línea de (0.0, 0.0) a (0.0, 10.0)\n",
      "Línea de (0.0, 10.0) a (-10.0, 10.0)\n"
     ]
    }
   ],
   "source": [
    "# Abrir el archivo DXF\n",
    "doc = ezdxf.readfile('ejemplo.dxf')\n",
    "\n",
    "# Obtener el dibujo del documento\n",
    "msp = doc.modelspace()\n",
    "\n",
    "# Iterar sobre las entidades en el dibujo\n",
    "for entity in msp:\n",
    "    # Verificar el tipo de entidad\n",
    "    if entity.dxftype() == 'LINE':\n",
    "        start_point = entity.dxf.start\n",
    "        end_point = entity.dxf.end\n",
    "        print(f'Línea de ({start_point.x}, {start_point.y}) a ({end_point.x}, {end_point.y})')\n",
    "    # Puedes agregar más verificaciones para otros tipos de entidades aquí\n"
   ]
  }
 ],
 "metadata": {
  "kernelspec": {
   "display_name": "Python 3",
   "language": "python",
   "name": "python3"
  },
  "language_info": {
   "codemirror_mode": {
    "name": "ipython",
    "version": 3
   },
   "file_extension": ".py",
   "mimetype": "text/x-python",
   "name": "python",
   "nbconvert_exporter": "python",
   "pygments_lexer": "ipython3",
   "version": "3.10.12"
  }
 },
 "nbformat": 4,
 "nbformat_minor": 2
}
