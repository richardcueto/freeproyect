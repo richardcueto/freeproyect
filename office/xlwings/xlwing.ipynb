{
 "cells": [
  {
   "cell_type": "markdown",
   "metadata": {},
   "source": [
    "## Librerias"
   ]
  },
  {
   "cell_type": "code",
   "execution_count": null,
   "metadata": {},
   "outputs": [],
   "source": [
    "!pip install xlwings"
   ]
  },
  {
   "cell_type": "code",
   "execution_count": null,
   "metadata": {},
   "outputs": [],
   "source": [
    "!xlwings addin install"
   ]
  },
  {
   "cell_type": "code",
   "execution_count": null,
   "metadata": {},
   "outputs": [],
   "source": [
    "!pip install \"xlwings[all]\""
   ]
  },
  {
   "cell_type": "markdown",
   "metadata": {},
   "source": [
    "# USO\n",
    "+ app = xw.apps.active\n",
    "\n",
    "+ wb = xw.books.active  # in active app\n",
    "+ wb = app.books.active  # in specific app\n",
    "\n",
    "+ sheet = xw.sheets.active  # in active book\n",
    "+ sheet = wb.sheets.active  # in specific book"
   ]
  },
  {
   "cell_type": "code",
   "execution_count": 4,
   "metadata": {},
   "outputs": [],
   "source": [
    "import xlwings as xw\n",
    "\n",
    "#Active app (i.e. Excel instance)\n",
    "app = xw.apps.active\n",
    "\n",
    "wb = xw.books.active  # in active app\n",
    "\n",
    "sheet = xw.sheets.active  # in active book"
   ]
  },
  {
   "cell_type": "markdown",
   "metadata": {},
   "source": [
    "+ import xlwings as xw\n",
    "+ sheet1 = xw.Book(\"MyBook.xlsx\").sheets[0]\n",
    "\n",
    "+ sheet1.range(\"A1\")\n",
    "+ sheet1.range(\"A1:C3\")\n",
    "+ sheet1.range((1,1))\n",
    "+ sheet1.range((1,1), (3,3))\n",
    "+ sheet1.range(\"NamedRange\")\n",
    "\n",
    "+ # Or using index/slice notation\n",
    "+ sheet1[\"A1\"]\n",
    "+ sheet1[\"A1:C3\"]\n",
    "+ sheet1[0, 0]\n",
    "+ sheet1[0:4, 0:4]\n",
    "+ sheet1[\"NamedRange\"]"
   ]
  },
  {
   "cell_type": "code",
   "execution_count": 5,
   "metadata": {},
   "outputs": [],
   "source": [
    "sheet['A1'].value = 1"
   ]
  },
  {
   "cell_type": "code",
   "execution_count": 6,
   "metadata": {},
   "outputs": [],
   "source": [
    "import numpy as np\n",
    "\n",
    "sheet['A1'].value = np.eye(3)\n",
    "\n",
    "# sheet['A1'].options(np.array, expand='table').value"
   ]
  }
 ],
 "metadata": {
  "kernelspec": {
   "display_name": "Python 3",
   "language": "python",
   "name": "python3"
  },
  "language_info": {
   "codemirror_mode": {
    "name": "ipython",
    "version": 3
   },
   "file_extension": ".py",
   "mimetype": "text/x-python",
   "name": "python",
   "nbconvert_exporter": "python",
   "pygments_lexer": "ipython3",
   "version": "3.11.9"
  }
 },
 "nbformat": 4,
 "nbformat_minor": 2
}
