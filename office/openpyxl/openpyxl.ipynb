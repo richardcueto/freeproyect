{
 "cells": [
  {
   "cell_type": "markdown",
   "metadata": {},
   "source": [
    "# Crear un xlsx"
   ]
  },
  {
   "cell_type": "code",
   "execution_count": 2,
   "metadata": {},
   "outputs": [],
   "source": [
    "from openpyxl import Workbook\n",
    "wb = Workbook()"
   ]
  },
  {
   "cell_type": "code",
   "execution_count": 7,
   "metadata": {},
   "outputs": [],
   "source": [
    "# activar el workbook\n",
    "ws = wb.active\n",
    "\n",
    "ws1 = wb.create_sheet() # insert at the end (default)\n",
    "# ws2 = wb.create_sheet(0) # insert at first position\n",
    "\n",
    "ws.title = \"Hoja2\""
   ]
  },
  {
   "cell_type": "code",
   "execution_count": null,
   "metadata": {},
   "outputs": [],
   "source": [
    "# agregamos color al tab\n",
    "ws.sheet_properties.tabColor = \"1072BA\""
   ]
  },
  {
   "cell_type": "code",
   "execution_count": 8,
   "metadata": {},
   "outputs": [],
   "source": [
    "\n",
    "# Data can be assigned directly to ws\n",
    "ws['A1'] = 77\n",
    "\n",
    "# Rows can also be appended\n",
    "ws.append([1, 2, 3])\n",
    "\n",
    "# Python types will automatically be converted\n",
    "import datetime\n",
    "ws['A2'] = datetime.datetime.now()\n",
    "\n"
   ]
  },
  {
   "cell_type": "code",
   "execution_count": 3,
   "metadata": {},
   "outputs": [],
   "source": [
    "# Save the file\n",
    "# wb.save(\"sample.xlsx\")\n",
    "wb.save('read_xlsx.xlsx')"
   ]
  },
  {
   "cell_type": "markdown",
   "metadata": {},
   "source": [
    "# Abrir un xlsx"
   ]
  },
  {
   "cell_type": "code",
   "execution_count": 1,
   "metadata": {},
   "outputs": [],
   "source": [
    "from openpyxl import load_workbook\n",
    "wb=load_workbook(filename=\"read_xlsx.xlsx\")"
   ]
  },
  {
   "cell_type": "markdown",
   "metadata": {},
   "source": [
    "## seleccionamos la hoja"
   ]
  },
  {
   "cell_type": "code",
   "execution_count": 2,
   "metadata": {},
   "outputs": [],
   "source": [
    "#seleccionamos la hoja\n",
    "ws=wb[\"Hoja2\"]"
   ]
  },
  {
   "cell_type": "markdown",
   "metadata": {},
   "source": [
    "## agregamos valores"
   ]
  },
  {
   "cell_type": "code",
   "execution_count": 3,
   "metadata": {},
   "outputs": [],
   "source": [
    "#agregamos a celdas\n",
    "ws[\"a1\"]='hola'"
   ]
  },
  {
   "cell_type": "markdown",
   "metadata": {},
   "source": [
    "## creamos imagen"
   ]
  },
  {
   "cell_type": "code",
   "execution_count": null,
   "metadata": {},
   "outputs": [],
   "source": [
    "from openpyxl.drawing.image import Image\n",
    "ws['a3'] = 'la imagen se coloca aqui'\n",
    "#create image\n",
    "img = Image('OIP.jpeg')\n",
    "#agregamos imagen\n",
    "ws.add_image(img, 'a4')"
   ]
  },
  {
   "cell_type": "markdown",
   "metadata": {},
   "source": [
    "## graficos"
   ]
  },
  {
   "cell_type": "code",
   "execution_count": null,
   "metadata": {},
   "outputs": [],
   "source": [
    "from openpyxl.chart import (\n",
    "AreaChart,\n",
    "Reference,\n",
    "Series,\n",
    ")\n",
    "ws1 = wb.create_sheet() # insert at the end (default)\n",
    "rows = [\n",
    "['Number', 'Batch 1', 'Batch 2'],\n",
    "[2, 40, 30],\n",
    "[3, 40, 25],\n",
    "[4, 50, 30],\n",
    "[5, 30, 10],\n",
    "[6, 25, 5],\n",
    "[7, 50, 10],\n",
    "]\n",
    "for row in rows:\n",
    "  ws1.append(row)\n",
    "chart = AreaChart()\n",
    "chart.title = \"Area Chart\"\n",
    "chart.style = 13\n",
    "chart.x_axis.title = 'Test'\n",
    "chart.y_axis.title = 'Percentage'\n",
    "cats = Reference(ws1, min_col=1, min_row=1, max_row=7)\n",
    "data = Reference(ws1, min_col=2, min_row=1, max_col=3, max_row=7)\n",
    "chart.add_data(data, titles_from_data=True)\n",
    "chart.set_categories(cats)\n",
    "ws1.add_chart(chart, \"d23\")"
   ]
  },
  {
   "cell_type": "markdown",
   "metadata": {},
   "source": [
    "## comentarios"
   ]
  },
  {
   "cell_type": "code",
   "execution_count": 8,
   "metadata": {},
   "outputs": [
    {
     "data": {
      "text/plain": [
       "'This is the comment text'"
      ]
     },
     "execution_count": 8,
     "metadata": {},
     "output_type": "execute_result"
    }
   ],
   "source": [
    "from openpyxl.comments import Comment\n",
    "comment = ws[\"A1\"].comment\n",
    "comment = Comment('This is the comment text', 'Comment Author')\n",
    "comment.text"
   ]
  },
  {
   "cell_type": "code",
   "execution_count": 7,
   "metadata": {},
   "outputs": [
    {
     "data": {
      "text/plain": [
       "'Comment Author'"
      ]
     },
     "execution_count": 7,
     "metadata": {},
     "output_type": "execute_result"
    }
   ],
   "source": [
    "comment.author"
   ]
  },
  {
   "cell_type": "markdown",
   "metadata": {},
   "source": [
    "## agrupar columnas"
   ]
  },
  {
   "cell_type": "code",
   "execution_count": null,
   "metadata": {},
   "outputs": [],
   "source": [
    "# agrupamos celdas\n",
    "ws.column_dimensions.group('A','B', hidden=True)"
   ]
  },
  {
   "cell_type": "markdown",
   "metadata": {},
   "source": [
    "## averiguar todas la formulas"
   ]
  },
  {
   "cell_type": "code",
   "execution_count": 3,
   "metadata": {},
   "outputs": [
    {
     "name": "stdout",
     "output_type": "stream",
     "text": [
      "frozenset({'DGET', 'MIDB', 'MIN', 'DAYS360', 'MMULT', 'EXP', 'VARP', 'ODD', 'COUNTIF', 'GESTEP', 'UPPER', 'BIN2OCT', 'RAND', 'PRICE', 'NORMSINV', 'JIS', 'NOMINAL', 'QUOTIENT', 'FACTDOUBLE', 'CHOOSE', 'IMLOG10', 'DATEVALUE', 'WEEKNUM', 'BINOMDIST', 'NEGBINOMDIST', 'YEARFRAC', 'SUMIFS', 'TIMEVALUE', 'TYPE', 'INDEX', 'DPRODUCT', 'NPER', 'MINA', 'TRANSPOSE', 'CUBEMEMBER', 'SUBSTITUTE', 'MAX', 'ROUNDUP', 'HYPERLINK', 'DISC', 'HEX2BIN', 'ODDFYIELD', 'INDIRECT', 'TODAY', 'PRICEMAT', 'SEARCHB', 'IMSUB', 'HEX2OCT', 'IMCOS', 'CELL', 'IMARGUMENT', 'COVAR', 'MID', 'DEVSQ', 'MIRR', 'YEAR', 'LINEST', 'FTEST', 'ABS', 'IMLOG2', 'MULTINOMIAL', 'CORREL', 'ACOS', 'ROWS', 'LOWER', 'LARGE', 'CUBESETCOUNT', 'SUMX2MY2', 'RANK', 'ROW', 'SERIESSUM', 'ZTEST', 'SUMXMY2', 'CHITEST', 'BESSELK', 'POWER', 'COUNT', 'NORMDIST', 'IMSIN', 'DMAX', 'DATE', 'CONVERT', 'LOGINV', 'STDEVP', 'ISBLANK', 'ASINH', 'FIND', 'ODDFPRICE', 'YIELDMAT', 'IMPOWER', 'BIN2HEX', 'EDATE', 'SUM', 'PERMUT', 'GAMMADIST', 'SUBTOTAL', 'ASC', 'HARMEAN', 'SUMSQ', 'FVSCHEDULE', 'PEARSON', 'FINDB', 'ISREF', 'ROMAN', 'RANDBETWEEN', 'EXACT', 'SLOPE', 'MAXA', 'MDURATION', 'FLOOR', 'AVERAGE', 'SQRTPI', 'FALSE', 'SEARCH', 'ISNUMBER', 'COUPNUM', 'ECMA.CEILING', 'RATE', 'RTD', 'CHIDIST', 'STDEVPA STEYX', 'DB', 'INTRATE', 'HYPGEOMDIST', 'FDIST', 'PROB', 'NETWORKDAYS.INTL', 'ISODD', 'N', 'DATEDIF', 'RSQ', 'MINUTE', 'MROUND', 'IF', 'GETPIVOTDATA', 'CONCATENATE', 'ISERR', 'SIN', 'BETADIST', 'CUMPRINC', 'ISERROR', 'SMALL', 'COUPDAYS', 'DOLLARDE', 'MDETERM', 'DOLLAR', 'ISPMT', 'REPT', 'PERCENTRANK', 'BAHTTEXT', 'WEIBULL', 'IRR', 'AMORLINC', 'COLUMN', 'PRICEDISC', 'FINV', 'TRUNC', 'EXPONDIST', 'DAVERAGE', 'LOGNORMDIST', 'AND', 'DCOUNT', 'ERROR.TYPE', 'FISHER', 'FREQUENCY', 'COSH', 'AVERAGEA', 'PPMT', 'POISSON', 'ISNA', 'SUMIF', 'TBILLYIELD', 'ROUND', 'ERFC', 'DURATION', 'DEC2HEX', 'CRITBINOM', 'ERF', 'SIGN', 'CONFIDENCE', 'DDB', 'ISTEXT', 'CUBEKPIMEMBER', 'TBILLEQ', 'ISLOGICAL', 'COLUMNS', 'FIXED', 'CUBEVALUE', 'FV', 'YIELDDISC', 'COUPDAYBS', 'ODDLYIELD', 'MOD', 'DVARP', 'DCOUNTA', 'FISHERINV', 'PI', 'CHIINV', 'LOG10', 'PHONETIC', 'NOW', 'ISNONTEXT', 'EFFECT', 'BESSELJ', 'REPLACE', 'DEC2BIN', 'TRIMMEAN', 'RECEIVED', 'SYD', 'VAR', 'IMAGINARY', 'MATCH', 'TBILLPRICE', 'IMREAL', 'PV', 'CHAR', 'ATAN2', 'CODE', 'DEC2OCT', 'FACT', 'HOUR', 'TAN', 'GEOMEAN', 'TTEST', 'ACCRINT', 'AVERAGEIF', 'COUPPCD', 'COUNTIFS', 'KURT', 'FORECAST', 'LEN', 'HEX2DEC', 'TANH', 'MODE', 'BESSELY', 'LOGEST', 'VALUE', 'STANDARDIZE', 'EVEN', 'DAY', 'GAMMALN', 'AVEDEV', 'SINH', 'COMPLEX', 'IMSQRT', 'AMORDEGRC', 'LCM', 'AVERAGEIFS', 'TIME', 'GROWTH', 'RIGHT', 'BETAINV', 'OCT2DEC', 'BIN2DEC', 'OFFSET', 'OR', 'TRUE ADDRESS', 'RADIANS', 'QUARTILE', 'IMLN', 'PRODUCT', 'YIELD', 'MEDIAN', 'ROUNDDOWN', 'ACOSH', 'VDB', 'DSTDEV', 'COUNTBLANK', 'SQRT', 'CUBESET', 'RIGHTB', 'IMABS', 'SECOND', 'XIRR', 'PMT', 'VLOOKUP', 'VARPA', 'TINV', 'NORMSDIST', 'ASIN', 'GAMMAINV', 'DOLLARFR', 'LENB', 'DELTA', 'IFERROR', 'IPMT', 'IMSUM', 'AREAS', 'SUMPRODUCT', 'IMPRODUCT', 'COUNTA', 'DSUM', 'IMEXP', 'T', 'OCT2BIN', 'TREND', 'NA', 'VARA', 'PERCENTILE', 'OCT2HEX', 'COUPNCD', 'NOT', 'IMDIV', 'MINVERSE', 'DVAR', 'NORMINV', 'WORKDAY.INTL', 'CUBERANKEDMEMBER', 'LOG', 'NETWORKDAYS', 'DEGREES', 'LN', 'ISO.CEILING', 'HLOOKUP', 'SLN', 'NPV', 'INFO', 'REPLACEB', 'LOOKUP', 'XNPV', 'GCD', 'CLEAN', 'ISEVEN', 'ODDLPRICE', 'COS', 'TEXT', 'COMBIN', 'LEFT', 'STDEV STDEVA', 'CUBEMEMBERPROPERTY', 'SUMX2PY2', 'TRIM', 'TDIST', 'PROPER', 'ATAN', 'CUMIPMT', 'ACCRINTM', 'CEILING', 'LEFTB', 'BESSELI', 'EOMONTH', 'MONTH', 'COUPDAYSNC', 'INTERCEPT', 'DSTDEVP', 'SKEW', 'INT', 'DMIN', 'WEEKDAY', 'IMCONJUGATE', 'WORKDAY ', 'ATANH'})\n"
     ]
    }
   ],
   "source": [
    "from openpyxl.utils import FORMULAE\n",
    "# \"HEX2DEC\" in FORMULAE\n",
    "# \"SIN\" in FORMULAE\n",
    "\"LAMDBA\" in FORMULAE\n",
    "print(FORMULAE)"
   ]
  },
  {
   "cell_type": "code",
   "execution_count": null,
   "metadata": {},
   "outputs": [],
   "source": [
    "# colocamos la formula\n",
    "ws[\"b1\"]=\"=SUM(a1:a2)\""
   ]
  },
  {
   "cell_type": "markdown",
   "metadata": {},
   "source": [
    "## guardar el archivo"
   ]
  },
  {
   "cell_type": "code",
   "execution_count": 9,
   "metadata": {},
   "outputs": [],
   "source": [
    "wb.save(filename=\"read_xlsx.xlsx\")"
   ]
  }
 ],
 "metadata": {
  "kernelspec": {
   "display_name": "Python 3",
   "language": "python",
   "name": "python3"
  },
  "language_info": {
   "codemirror_mode": {
    "name": "ipython",
    "version": 3
   },
   "file_extension": ".py",
   "mimetype": "text/x-python",
   "name": "python",
   "nbconvert_exporter": "python",
   "pygments_lexer": "ipython3",
   "version": "3.10.12"
  }
 },
 "nbformat": 4,
 "nbformat_minor": 2
}
