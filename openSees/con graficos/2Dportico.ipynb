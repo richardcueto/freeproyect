{
 "cells": [
  {
   "cell_type": "markdown",
   "metadata": {},
   "source": [
    "<p align=\"center\">\n",
    "<b><font size=\"9\" color=\"#000080\">PORTICO PLANO ETABS</font></b>\n",
    "<div align=\"center\">\n",
    "    <div style=\"display: inline-block;\">\n",
    "    <span style=\"font-size: 18px;position: relative; bottom: 13px;\">Richard Cueto Calderon | Update :7/05/204 | API ETBAS | Python</span>\n",
    "    </div>\n",
    "</div>\n",
    "</p>"
   ]
  },
  {
   "cell_type": "code",
   "execution_count": 24,
   "metadata": {},
   "outputs": [],
   "source": [
    "import openseespy.opensees as ops\n",
    "import opsvis as opsv\n",
    "import matplotlib.pyplot as plt\n",
    "\n",
    "ops.wipe()\n",
    "ops.model('basic', '-ndm', 2, '-ndf', 3)"
   ]
  },
  {
   "cell_type": "code",
   "execution_count": 25,
   "metadata": {},
   "outputs": [],
   "source": [
    "\n",
    "b_c,h_c=0.45,0.45\n",
    "b_v,h_v=0.3,0.6\n",
    "E=15000*280**0.5\n",
    "# Ac,Av=b_c*h_c,b_v*h_v\n",
    "# Ic,Iv=b_c*h_c**3/12,b_v*h_v**3/12\n",
    "Ic=Iv=1\n",
    "Ac=Av=10000"
   ]
  },
  {
   "cell_type": "code",
   "execution_count": 26,
   "metadata": {},
   "outputs": [],
   "source": [
    "ops.node(1,0,0)\n",
    "ops.node(2,0, 10)\n",
    "ops.node(3,5, 10)\n",
    "ops.node(4,5,0)\n",
    "\n",
    "ops.fix(1,1,1,1)\n",
    "ops.fix(4,1,1,1)\n",
    "\n",
    "ops.geomTransf('Linear', 1)\n",
    "\n",
    "ops.element('elasticBeamColumn',1,1,2,Ac,E,Ic,1)\n",
    "ops.element('elasticBeamColumn',2,2,3,Ac,E,Ic,1)\n",
    "ops.element('elasticBeamColumn',3,3,4,Ac,E,Ic,1)\n",
    "# ops.element('elasticBeamColumn',4,4,5,Av,E,Iv,1)\n",
    "# ops.element('elasticBeamColumn',5,5,6,Av,E,Iv,1)\n",
    "\n",
    "Px = 20\n",
    "Wy = -16\n",
    "Wx = 0.\n",
    "\n",
    "Ew = {2: ['-beamUniform', Wy, Wx],\n",
    "      }"
   ]
  },
  {
   "cell_type": "code",
   "execution_count": 27,
   "metadata": {},
   "outputs": [],
   "source": [
    "ops.timeSeries('Constant', 1)\n",
    "ops.pattern('Plain', 1, 1)\n",
    "\n",
    "for etag in Ew:\n",
    "    ops.eleLoad('-ele', etag, '-type', Ew[etag][0], Ew[etag][1],\n",
    "                Ew[etag][2])\n",
    "\n",
    "ops.load(2,Px,0,0)"
   ]
  },
  {
   "cell_type": "code",
   "execution_count": null,
   "metadata": {},
   "outputs": [],
   "source": [
    "opsv.plot_model()\n",
    "plt.title('plot_model after defining elements')"
   ]
  },
  {
   "cell_type": "code",
   "execution_count": 28,
   "metadata": {},
   "outputs": [
    {
     "data": {
      "text/plain": [
       "0"
      ]
     },
     "execution_count": 28,
     "metadata": {},
     "output_type": "execute_result"
    }
   ],
   "source": [
    "\n",
    "ops.constraints('Transformation')\n",
    "ops.numberer('RCM')\n",
    "ops.system('BandGeneral')\n",
    "ops.test('NormDispIncr', 1.0e-6, 6, 2)\n",
    "ops.algorithm('Linear')\n",
    "ops.integrator('LoadControl', 1)\n",
    "ops.analysis('Static')\n",
    "ops.analyze(1)"
   ]
  },
  {
   "cell_type": "code",
   "execution_count": null,
   "metadata": {},
   "outputs": [],
   "source": [
    "opsv.plot_loads_2d()\n",
    "plt.title('plot_model loads')"
   ]
  },
  {
   "cell_type": "code",
   "execution_count": 29,
   "metadata": {},
   "outputs": [],
   "source": [
    "sfacN, sfacV, sfacM = 5.e-5, 5.e-5, 5.e-5"
   ]
  },
  {
   "cell_type": "code",
   "execution_count": null,
   "metadata": {},
   "outputs": [],
   "source": [
    "opsv.plot_defo()\n",
    "plt.title('plot_model deformation')"
   ]
  },
  {
   "cell_type": "code",
   "execution_count": null,
   "metadata": {},
   "outputs": [],
   "source": [
    "opsv.section_force_diagram_2d('N', sfacN)\n",
    "plt.title('Axial force distribution')"
   ]
  },
  {
   "cell_type": "code",
   "execution_count": null,
   "metadata": {},
   "outputs": [],
   "source": [
    "opsv.section_force_diagram_2d('T', sfacV)\n",
    "plt.title('Shear force distribution')"
   ]
  },
  {
   "cell_type": "code",
   "execution_count": 30,
   "metadata": {},
   "outputs": [
    {
     "data": {
      "text/plain": [
       "Text(0.5, 1.0, 'Bending moment distribution')"
      ]
     },
     "execution_count": 30,
     "metadata": {},
     "output_type": "execute_result"
    },
    {
     "data": {
      "image/png": "[encoded data removed]",
      "text/plain": [
       "<Figure size 640x480 with 1 Axes>"
      ]
     },
     "metadata": {},
     "output_type": "display_data"
    }
   ],
   "source": [
    "opsv.section_force_diagram_2d('M', sfacM)\n",
    "plt.title('Bending moment distribution')"
   ]
  },
  {
   "cell_type": "code",
   "execution_count": null,
   "metadata": {},
   "outputs": [],
   "source": [
    "# plt.show()\n",
    "exit()"
   ]
  }
 ],
 "metadata": {
  "kernelspec": {
   "display_name": "Python 3",
   "language": "python",
   "name": "python3"
  },
  "language_info": {
   "codemirror_mode": {
    "name": "ipython",
    "version": 3
   },
   "file_extension": ".py",
   "mimetype": "text/x-python",
   "name": "python",
   "nbconvert_exporter": "python",
   "pygments_lexer": "ipython3",
   "version": "3.11.0"
  }
 },
 "nbformat": 4,
 "nbformat_minor": 2
}
